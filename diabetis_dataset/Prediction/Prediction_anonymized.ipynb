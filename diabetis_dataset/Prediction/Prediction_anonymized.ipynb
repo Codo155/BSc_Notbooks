{
 "cells": [
  {
   "cell_type": "markdown",
   "metadata": {},
   "source": [
    "Prediction of anonymized diabetes data\n",
    "==============================="
   ]
  },
  {
   "cell_type": "markdown",
   "metadata": {},
   "source": [
    "## Imports\n",
    "\n",
    "Importing needed packages:"
   ]
  },
  {
   "cell_type": "code",
   "execution_count": 229,
   "metadata": {},
   "outputs": [],
   "source": [
    "import pandas \n",
    "import numpy as np\n",
    "\n",
    "from sklearn.model_selection import train_test_split\n",
    "from sklearn.ensemble import RandomForestClassifier\n",
    "from sklearn.naive_bayes import BernoulliNB\n",
    "from sklearn.neighbors import KNeighborsClassifier\n",
    "from sklearn import metrics\n",
    "from sklearn.metrics import classification_report\n",
    "from sklearn.model_selection import cross_val_score\n",
    "import matplotlib.pyplot as plt\n",
    "\n",
    "# turn of warnings\n",
    "import warnings\n",
    "warnings.filterwarnings('ignore')"
   ]
  },
  {
   "cell_type": "markdown",
   "metadata": {},
   "source": [
    "## Import Data"
   ]
  },
  {
   "cell_type": "code",
   "execution_count": 230,
   "metadata": {},
   "outputs": [
    {
     "data": {
      "text/html": [
       "<div>\n",
       "<style scoped>\n",
       "    .dataframe tbody tr th:only-of-type {\n",
       "        vertical-align: middle;\n",
       "    }\n",
       "\n",
       "    .dataframe tbody tr th {\n",
       "        vertical-align: top;\n",
       "    }\n",
       "\n",
       "    .dataframe thead th {\n",
       "        text-align: right;\n",
       "    }\n",
       "</style>\n",
       "<table border=\"1\" class=\"dataframe\">\n",
       "  <thead>\n",
       "    <tr style=\"text-align: right;\">\n",
       "      <th></th>\n",
       "      <th>Pregnancies</th>\n",
       "      <th>Glucose</th>\n",
       "      <th>BloodPressure</th>\n",
       "      <th>SkinThickness</th>\n",
       "      <th>Insulin</th>\n",
       "      <th>BMI</th>\n",
       "      <th>DiabetesPedigreeFunction</th>\n",
       "      <th>Age</th>\n",
       "      <th>Outcome</th>\n",
       "    </tr>\n",
       "  </thead>\n",
       "  <tbody>\n",
       "    <tr>\n",
       "      <th>0</th>\n",
       "      <td>[0, 5[</td>\n",
       "      <td>84</td>\n",
       "      <td>[0, 20[</td>\n",
       "      <td>0</td>\n",
       "      <td>0</td>\n",
       "      <td>[0, 5[</td>\n",
       "      <td>0.304</td>\n",
       "      <td>[21, 40[</td>\n",
       "      <td>0</td>\n",
       "    </tr>\n",
       "    <tr>\n",
       "      <th>1</th>\n",
       "      <td>[0, 5[</td>\n",
       "      <td>74</td>\n",
       "      <td>[0, 20[</td>\n",
       "      <td>0</td>\n",
       "      <td>0</td>\n",
       "      <td>[0, 5[</td>\n",
       "      <td>0.102</td>\n",
       "      <td>[21, 40[</td>\n",
       "      <td>0</td>\n",
       "    </tr>\n",
       "    <tr>\n",
       "      <th>2</th>\n",
       "      <td>[0, 5[</td>\n",
       "      <td>94</td>\n",
       "      <td>[0, 20[</td>\n",
       "      <td>0</td>\n",
       "      <td>0</td>\n",
       "      <td>[0, 5[</td>\n",
       "      <td>0.256</td>\n",
       "      <td>[21, 40[</td>\n",
       "      <td>0</td>\n",
       "    </tr>\n",
       "    <tr>\n",
       "      <th>3</th>\n",
       "      <td>[0, 5[</td>\n",
       "      <td>80</td>\n",
       "      <td>[0, 20[</td>\n",
       "      <td>0</td>\n",
       "      <td>0</td>\n",
       "      <td>[0, 5[</td>\n",
       "      <td>0.174</td>\n",
       "      <td>[21, 40[</td>\n",
       "      <td>0</td>\n",
       "    </tr>\n",
       "    <tr>\n",
       "      <th>4</th>\n",
       "      <td>[0, 5[</td>\n",
       "      <td>116</td>\n",
       "      <td>[0, 20[</td>\n",
       "      <td>0</td>\n",
       "      <td>0</td>\n",
       "      <td>[20, 25[</td>\n",
       "      <td>0.187</td>\n",
       "      <td>[21, 40[</td>\n",
       "      <td>0</td>\n",
       "    </tr>\n",
       "  </tbody>\n",
       "</table>\n",
       "</div>"
      ],
      "text/plain": [
       "  Pregnancies  Glucose BloodPressure  SkinThickness  Insulin       BMI  \\\n",
       "0      [0, 5[       84       [0, 20[              0        0    [0, 5[   \n",
       "1      [0, 5[       74       [0, 20[              0        0    [0, 5[   \n",
       "2      [0, 5[       94       [0, 20[              0        0    [0, 5[   \n",
       "3      [0, 5[       80       [0, 20[              0        0    [0, 5[   \n",
       "4      [0, 5[      116       [0, 20[              0        0  [20, 25[   \n",
       "\n",
       "   DiabetesPedigreeFunction       Age  Outcome  \n",
       "0                     0.304  [21, 40[        0  \n",
       "1                     0.102  [21, 40[        0  \n",
       "2                     0.256  [21, 40[        0  \n",
       "3                     0.174  [21, 40[        0  \n",
       "4                     0.187  [21, 40[        0  "
      ]
     },
     "metadata": {},
     "output_type": "display_data"
    }
   ],
   "source": [
    "data= pandas.read_csv('diabetis_anonymized01.csv', index_col=0);\n",
    "\n",
    "display(data.head())\n"
   ]
  },
  {
   "cell_type": "markdown",
   "metadata": {},
   "source": [
    "## Data preparation\n"
   ]
  },
  {
   "cell_type": "code",
   "execution_count": 231,
   "metadata": {},
   "outputs": [],
   "source": [
    "target=data['Outcome']\n",
    "data=data.drop(['Outcome'],axis=1)\n",
    "## One-Hot Encoding\n",
    "enc=np.array(['Pregnancies','BloodPressure','BMI','Age'])\n",
    "enc2 = np.array(['Glucose','SkinThickness','Insulin','DiabetesPedigreeFunction'])\n",
    "\n",
    "##naive bayes data -> encoding all values because of the use of Bernouli NB\n",
    "nb_data=pandas.get_dummies(data,columns=list(data.columns))\n",
    "\n",
    "#data for rf\n",
    "data= pandas.get_dummies(data,columns=enc)\n",
    "\n",
    "## saving the labels\n",
    "labels= list(data.columns)\n"
   ]
  },
  {
   "cell_type": "markdown",
   "metadata": {},
   "source": [
    "## Splitting the data in train and test data"
   ]
  },
  {
   "cell_type": "code",
   "execution_count": 232,
   "metadata": {},
   "outputs": [
    {
     "data": {
      "text/html": [
       "<div>\n",
       "<style scoped>\n",
       "    .dataframe tbody tr th:only-of-type {\n",
       "        vertical-align: middle;\n",
       "    }\n",
       "\n",
       "    .dataframe tbody tr th {\n",
       "        vertical-align: top;\n",
       "    }\n",
       "\n",
       "    .dataframe thead th {\n",
       "        text-align: right;\n",
       "    }\n",
       "</style>\n",
       "<table border=\"1\" class=\"dataframe\">\n",
       "  <thead>\n",
       "    <tr style=\"text-align: right;\">\n",
       "      <th></th>\n",
       "      <th>Glucose</th>\n",
       "      <th>SkinThickness</th>\n",
       "      <th>Insulin</th>\n",
       "      <th>DiabetesPedigreeFunction</th>\n",
       "      <th>Pregnancies_[0, 5[</th>\n",
       "      <th>Pregnancies_[10, 15[</th>\n",
       "      <th>Pregnancies_[5, 10[</th>\n",
       "      <th>BloodPressure_[0, 20[</th>\n",
       "      <th>BloodPressure_[40, 60[</th>\n",
       "      <th>BloodPressure_[60, 80[</th>\n",
       "      <th>...</th>\n",
       "      <th>BMI_[15, 20[</th>\n",
       "      <th>BMI_[20, 25[</th>\n",
       "      <th>BMI_[25, 30[</th>\n",
       "      <th>BMI_[30, 35[</th>\n",
       "      <th>BMI_[35, 40[</th>\n",
       "      <th>BMI_[40, 45[</th>\n",
       "      <th>BMI_[45, 50[</th>\n",
       "      <th>Age_[21, 40[</th>\n",
       "      <th>Age_[40, 60[</th>\n",
       "      <th>Age_[60, 80[</th>\n",
       "    </tr>\n",
       "  </thead>\n",
       "  <tbody>\n",
       "    <tr>\n",
       "      <th>203</th>\n",
       "      <td>171</td>\n",
       "      <td>33</td>\n",
       "      <td>135</td>\n",
       "      <td>0.199</td>\n",
       "      <td>1</td>\n",
       "      <td>0</td>\n",
       "      <td>0</td>\n",
       "      <td>0</td>\n",
       "      <td>0</td>\n",
       "      <td>1</td>\n",
       "      <td>...</td>\n",
       "      <td>0</td>\n",
       "      <td>0</td>\n",
       "      <td>0</td>\n",
       "      <td>1</td>\n",
       "      <td>0</td>\n",
       "      <td>0</td>\n",
       "      <td>0</td>\n",
       "      <td>1</td>\n",
       "      <td>0</td>\n",
       "      <td>0</td>\n",
       "    </tr>\n",
       "    <tr>\n",
       "      <th>196</th>\n",
       "      <td>115</td>\n",
       "      <td>30</td>\n",
       "      <td>96</td>\n",
       "      <td>0.529</td>\n",
       "      <td>1</td>\n",
       "      <td>0</td>\n",
       "      <td>0</td>\n",
       "      <td>0</td>\n",
       "      <td>0</td>\n",
       "      <td>1</td>\n",
       "      <td>...</td>\n",
       "      <td>0</td>\n",
       "      <td>0</td>\n",
       "      <td>0</td>\n",
       "      <td>1</td>\n",
       "      <td>0</td>\n",
       "      <td>0</td>\n",
       "      <td>0</td>\n",
       "      <td>1</td>\n",
       "      <td>0</td>\n",
       "      <td>0</td>\n",
       "    </tr>\n",
       "    <tr>\n",
       "      <th>286</th>\n",
       "      <td>107</td>\n",
       "      <td>30</td>\n",
       "      <td>74</td>\n",
       "      <td>0.757</td>\n",
       "      <td>1</td>\n",
       "      <td>0</td>\n",
       "      <td>0</td>\n",
       "      <td>0</td>\n",
       "      <td>0</td>\n",
       "      <td>1</td>\n",
       "      <td>...</td>\n",
       "      <td>0</td>\n",
       "      <td>0</td>\n",
       "      <td>0</td>\n",
       "      <td>0</td>\n",
       "      <td>1</td>\n",
       "      <td>0</td>\n",
       "      <td>0</td>\n",
       "      <td>1</td>\n",
       "      <td>0</td>\n",
       "      <td>0</td>\n",
       "    </tr>\n",
       "    <tr>\n",
       "      <th>93</th>\n",
       "      <td>104</td>\n",
       "      <td>0</td>\n",
       "      <td>0</td>\n",
       "      <td>0.582</td>\n",
       "      <td>1</td>\n",
       "      <td>0</td>\n",
       "      <td>0</td>\n",
       "      <td>0</td>\n",
       "      <td>0</td>\n",
       "      <td>1</td>\n",
       "      <td>...</td>\n",
       "      <td>1</td>\n",
       "      <td>0</td>\n",
       "      <td>0</td>\n",
       "      <td>0</td>\n",
       "      <td>0</td>\n",
       "      <td>0</td>\n",
       "      <td>0</td>\n",
       "      <td>1</td>\n",
       "      <td>0</td>\n",
       "      <td>0</td>\n",
       "    </tr>\n",
       "    <tr>\n",
       "      <th>586</th>\n",
       "      <td>61</td>\n",
       "      <td>28</td>\n",
       "      <td>0</td>\n",
       "      <td>0.243</td>\n",
       "      <td>1</td>\n",
       "      <td>0</td>\n",
       "      <td>0</td>\n",
       "      <td>0</td>\n",
       "      <td>0</td>\n",
       "      <td>0</td>\n",
       "      <td>...</td>\n",
       "      <td>0</td>\n",
       "      <td>0</td>\n",
       "      <td>0</td>\n",
       "      <td>1</td>\n",
       "      <td>0</td>\n",
       "      <td>0</td>\n",
       "      <td>0</td>\n",
       "      <td>0</td>\n",
       "      <td>1</td>\n",
       "      <td>0</td>\n",
       "    </tr>\n",
       "  </tbody>\n",
       "</table>\n",
       "<p>5 rows × 22 columns</p>\n",
       "</div>"
      ],
      "text/plain": [
       "     Glucose  SkinThickness  Insulin  DiabetesPedigreeFunction  \\\n",
       "203      171             33      135                     0.199   \n",
       "196      115             30       96                     0.529   \n",
       "286      107             30       74                     0.757   \n",
       "93       104              0        0                     0.582   \n",
       "586       61             28        0                     0.243   \n",
       "\n",
       "     Pregnancies_[0, 5[  Pregnancies_[10, 15[  Pregnancies_[5, 10[  \\\n",
       "203                   1                     0                    0   \n",
       "196                   1                     0                    0   \n",
       "286                   1                     0                    0   \n",
       "93                    1                     0                    0   \n",
       "586                   1                     0                    0   \n",
       "\n",
       "     BloodPressure_[0, 20[  BloodPressure_[40, 60[  BloodPressure_[60, 80[  \\\n",
       "203                      0                       0                       1   \n",
       "196                      0                       0                       1   \n",
       "286                      0                       0                       1   \n",
       "93                       0                       0                       1   \n",
       "586                      0                       0                       0   \n",
       "\n",
       "     ...  BMI_[15, 20[  BMI_[20, 25[  BMI_[25, 30[  BMI_[30, 35[  \\\n",
       "203  ...             0             0             0             1   \n",
       "196  ...             0             0             0             1   \n",
       "286  ...             0             0             0             0   \n",
       "93   ...             1             0             0             0   \n",
       "586  ...             0             0             0             1   \n",
       "\n",
       "     BMI_[35, 40[  BMI_[40, 45[  BMI_[45, 50[  Age_[21, 40[  Age_[40, 60[  \\\n",
       "203             0             0             0             1             0   \n",
       "196             0             0             0             1             0   \n",
       "286             1             0             0             1             0   \n",
       "93              0             0             0             1             0   \n",
       "586             0             0             0             0             1   \n",
       "\n",
       "     Age_[60, 80[  \n",
       "203             0  \n",
       "196             0  \n",
       "286             0  \n",
       "93              0  \n",
       "586             0  \n",
       "\n",
       "[5 rows x 22 columns]"
      ]
     },
     "metadata": {},
     "output_type": "display_data"
    },
    {
     "data": {
      "text/html": [
       "<div>\n",
       "<style scoped>\n",
       "    .dataframe tbody tr th:only-of-type {\n",
       "        vertical-align: middle;\n",
       "    }\n",
       "\n",
       "    .dataframe tbody tr th {\n",
       "        vertical-align: top;\n",
       "    }\n",
       "\n",
       "    .dataframe thead th {\n",
       "        text-align: right;\n",
       "    }\n",
       "</style>\n",
       "<table border=\"1\" class=\"dataframe\">\n",
       "  <thead>\n",
       "    <tr style=\"text-align: right;\">\n",
       "      <th></th>\n",
       "      <th>Glucose</th>\n",
       "      <th>SkinThickness</th>\n",
       "      <th>Insulin</th>\n",
       "      <th>DiabetesPedigreeFunction</th>\n",
       "      <th>Pregnancies_[0, 5[</th>\n",
       "      <th>Pregnancies_[10, 15[</th>\n",
       "      <th>Pregnancies_[5, 10[</th>\n",
       "      <th>BloodPressure_[0, 20[</th>\n",
       "      <th>BloodPressure_[40, 60[</th>\n",
       "      <th>BloodPressure_[60, 80[</th>\n",
       "      <th>...</th>\n",
       "      <th>BMI_[15, 20[</th>\n",
       "      <th>BMI_[20, 25[</th>\n",
       "      <th>BMI_[25, 30[</th>\n",
       "      <th>BMI_[30, 35[</th>\n",
       "      <th>BMI_[35, 40[</th>\n",
       "      <th>BMI_[40, 45[</th>\n",
       "      <th>BMI_[45, 50[</th>\n",
       "      <th>Age_[21, 40[</th>\n",
       "      <th>Age_[40, 60[</th>\n",
       "      <th>Age_[60, 80[</th>\n",
       "    </tr>\n",
       "  </thead>\n",
       "  <tbody>\n",
       "    <tr>\n",
       "      <th>627</th>\n",
       "      <td>107</td>\n",
       "      <td>0</td>\n",
       "      <td>0</td>\n",
       "      <td>0.727</td>\n",
       "      <td>0</td>\n",
       "      <td>0</td>\n",
       "      <td>1</td>\n",
       "      <td>0</td>\n",
       "      <td>0</td>\n",
       "      <td>0</td>\n",
       "      <td>...</td>\n",
       "      <td>0</td>\n",
       "      <td>0</td>\n",
       "      <td>0</td>\n",
       "      <td>0</td>\n",
       "      <td>1</td>\n",
       "      <td>0</td>\n",
       "      <td>0</td>\n",
       "      <td>1</td>\n",
       "      <td>0</td>\n",
       "      <td>0</td>\n",
       "    </tr>\n",
       "    <tr>\n",
       "      <th>271</th>\n",
       "      <td>158</td>\n",
       "      <td>13</td>\n",
       "      <td>387</td>\n",
       "      <td>0.295</td>\n",
       "      <td>1</td>\n",
       "      <td>0</td>\n",
       "      <td>0</td>\n",
       "      <td>0</td>\n",
       "      <td>0</td>\n",
       "      <td>1</td>\n",
       "      <td>...</td>\n",
       "      <td>0</td>\n",
       "      <td>0</td>\n",
       "      <td>0</td>\n",
       "      <td>1</td>\n",
       "      <td>0</td>\n",
       "      <td>0</td>\n",
       "      <td>0</td>\n",
       "      <td>1</td>\n",
       "      <td>0</td>\n",
       "      <td>0</td>\n",
       "    </tr>\n",
       "    <tr>\n",
       "      <th>290</th>\n",
       "      <td>112</td>\n",
       "      <td>32</td>\n",
       "      <td>0</td>\n",
       "      <td>0.148</td>\n",
       "      <td>1</td>\n",
       "      <td>0</td>\n",
       "      <td>0</td>\n",
       "      <td>0</td>\n",
       "      <td>0</td>\n",
       "      <td>1</td>\n",
       "      <td>...</td>\n",
       "      <td>0</td>\n",
       "      <td>0</td>\n",
       "      <td>0</td>\n",
       "      <td>0</td>\n",
       "      <td>1</td>\n",
       "      <td>0</td>\n",
       "      <td>0</td>\n",
       "      <td>1</td>\n",
       "      <td>0</td>\n",
       "      <td>0</td>\n",
       "    </tr>\n",
       "    <tr>\n",
       "      <th>63</th>\n",
       "      <td>108</td>\n",
       "      <td>26</td>\n",
       "      <td>63</td>\n",
       "      <td>0.318</td>\n",
       "      <td>1</td>\n",
       "      <td>0</td>\n",
       "      <td>0</td>\n",
       "      <td>0</td>\n",
       "      <td>1</td>\n",
       "      <td>0</td>\n",
       "      <td>...</td>\n",
       "      <td>0</td>\n",
       "      <td>0</td>\n",
       "      <td>0</td>\n",
       "      <td>1</td>\n",
       "      <td>0</td>\n",
       "      <td>0</td>\n",
       "      <td>0</td>\n",
       "      <td>1</td>\n",
       "      <td>0</td>\n",
       "      <td>0</td>\n",
       "    </tr>\n",
       "    <tr>\n",
       "      <th>302</th>\n",
       "      <td>84</td>\n",
       "      <td>23</td>\n",
       "      <td>115</td>\n",
       "      <td>0.471</td>\n",
       "      <td>1</td>\n",
       "      <td>0</td>\n",
       "      <td>0</td>\n",
       "      <td>0</td>\n",
       "      <td>0</td>\n",
       "      <td>1</td>\n",
       "      <td>...</td>\n",
       "      <td>0</td>\n",
       "      <td>0</td>\n",
       "      <td>0</td>\n",
       "      <td>0</td>\n",
       "      <td>1</td>\n",
       "      <td>0</td>\n",
       "      <td>0</td>\n",
       "      <td>1</td>\n",
       "      <td>0</td>\n",
       "      <td>0</td>\n",
       "    </tr>\n",
       "  </tbody>\n",
       "</table>\n",
       "<p>5 rows × 22 columns</p>\n",
       "</div>"
      ],
      "text/plain": [
       "     Glucose  SkinThickness  Insulin  DiabetesPedigreeFunction  \\\n",
       "627      107              0        0                     0.727   \n",
       "271      158             13      387                     0.295   \n",
       "290      112             32        0                     0.148   \n",
       "63       108             26       63                     0.318   \n",
       "302       84             23      115                     0.471   \n",
       "\n",
       "     Pregnancies_[0, 5[  Pregnancies_[10, 15[  Pregnancies_[5, 10[  \\\n",
       "627                   0                     0                    1   \n",
       "271                   1                     0                    0   \n",
       "290                   1                     0                    0   \n",
       "63                    1                     0                    0   \n",
       "302                   1                     0                    0   \n",
       "\n",
       "     BloodPressure_[0, 20[  BloodPressure_[40, 60[  BloodPressure_[60, 80[  \\\n",
       "627                      0                       0                       0   \n",
       "271                      0                       0                       1   \n",
       "290                      0                       0                       1   \n",
       "63                       0                       1                       0   \n",
       "302                      0                       0                       1   \n",
       "\n",
       "     ...  BMI_[15, 20[  BMI_[20, 25[  BMI_[25, 30[  BMI_[30, 35[  \\\n",
       "627  ...             0             0             0             0   \n",
       "271  ...             0             0             0             1   \n",
       "290  ...             0             0             0             0   \n",
       "63   ...             0             0             0             1   \n",
       "302  ...             0             0             0             0   \n",
       "\n",
       "     BMI_[35, 40[  BMI_[40, 45[  BMI_[45, 50[  Age_[21, 40[  Age_[40, 60[  \\\n",
       "627             1             0             0             1             0   \n",
       "271             0             0             0             1             0   \n",
       "290             1             0             0             1             0   \n",
       "63              0             0             0             1             0   \n",
       "302             1             0             0             1             0   \n",
       "\n",
       "     Age_[60, 80[  \n",
       "627             0  \n",
       "271             0  \n",
       "290             0  \n",
       "63              0  \n",
       "302             0  \n",
       "\n",
       "[5 rows x 22 columns]"
      ]
     },
     "metadata": {},
     "output_type": "display_data"
    },
    {
     "data": {
      "text/plain": [
       "[]"
      ]
     },
     "metadata": {},
     "output_type": "display_data"
    }
   ],
   "source": [
    "# splitting data for rf\n",
    "train_pred, test_pred, train_target, test_target = train_test_split(data, target, test_size=0.33,random_state=42)\n",
    "display(train_pred.head())\n",
    "display(test_pred.head())\n",
    "\n",
    "#splitting data for nb\n",
    "nb_train_pred, nb_test_pred, nb_train_target, nb_test_target = train_test_split(nb_data, target, test_size=0.33,random_state=42)\n",
    "\n",
    "display(list(set(nb_test_pred.columns)-set(nb_train_pred.columns)))\n",
    "## Transform everythin to np.array\n",
    "train_pred=np.array(train_pred)\n",
    "train_target=np.array(train_target)\n",
    "\n",
    "test_pred=np.array(test_pred)\n",
    "test_target=np.array(test_target)\n",
    "\n",
    "\n",
    "nb_test_pred=np.array(nb_test_pred)\n",
    "nb_train_pred=np.array(nb_train_pred)\n"
   ]
  },
  {
   "cell_type": "markdown",
   "metadata": {},
   "source": [
    "## Random Forest\n",
    "\n",
    "Finding right amount of trees:"
   ]
  },
  {
   "cell_type": "code",
   "execution_count": 233,
   "metadata": {},
   "outputs": [
    {
     "name": "stdout",
     "output_type": "stream",
     "text": [
      "[0.7454545454545454, 0.7454545454545455, 0.7522727272727272, 0.7477272727272728, 0.75, 0.75, 0.7545454545454545, 0.7522727272727272, 0.7568181818181817, 0.7613636363636364, 0.759090909090909, 0.7545454545454545, 0.759090909090909, 0.7613636363636364, 0.7636363636363636, 0.7681818181818182, 0.7681818181818182, 0.7636363636363637, 0.7681818181818182, 0.7681818181818182, 0.7681818181818182, 0.7659090909090909, 0.7681818181818182, 0.7681818181818182, 0.7704545454545454, 0.7681818181818182, 0.7681818181818182, 0.7681818181818182, 0.7681818181818182, 0.7636363636363637]\n"
     ]
    }
   ],
   "source": [
    "rf_range = range(40, 70)\n",
    "\n",
    "# list of scores from k_range\n",
    "rf_scores = []\n",
    "\n",
    "# 1. we will loop through reasonable values of k\n",
    "for k in rf_range:\n",
    "    # 2. run KNeighborsClassifier with k neighbours\n",
    "    classifier = RandomForestClassifier(random_state=42,n_estimators=k)\n",
    "    # 3. obtain cross_val_score for KNeighborsClassifier with k neighbours\n",
    "    scores = cross_val_score(classifier, train_pred, train_target, cv=10, scoring='accuracy')\n",
    "    # 4. append mean of scores for k neighbors to k_scores list\n",
    "    rf_scores.append(scores.mean())\n",
    "print(rf_scores)"
   ]
  },
  {
   "cell_type": "code",
   "execution_count": 234,
   "metadata": {},
   "outputs": [
    {
     "data": {
      "text/plain": [
       "Text(0, 0.5, 'Cross-Validated Accuracy')"
      ]
     },
     "execution_count": 234,
     "metadata": {},
     "output_type": "execute_result"
    },
    {
     "data": {
      "image/png": "[encoded data removed]",
      "text/plain": [
       "<Figure size 432x288 with 1 Axes>"
      ]
     },
     "metadata": {
      "needs_background": "light"
     },
     "output_type": "display_data"
    }
   ],
   "source": [
    "plt.plot(rf_range, rf_scores)\n",
    "plt.xlabel('Number of trees for rf')\n",
    "plt.ylabel('Cross-Validated Accuracy')"
   ]
  },
  {
   "cell_type": "markdown",
   "metadata": {},
   "source": [
    "#### Prediction"
   ]
  },
  {
   "cell_type": "code",
   "execution_count": 235,
   "metadata": {},
   "outputs": [],
   "source": [
    "classifier = RandomForestClassifier(random_state=42,n_estimators=65)\n",
    "classifier = classifier.fit(train_pred,train_target)\n",
    "\n",
    "prediction = classifier.predict(test_pred)\n",
    "\n",
    "difference = prediction - test_target"
   ]
  },
  {
   "cell_type": "markdown",
   "metadata": {},
   "source": [
    "#### Metrics"
   ]
  },
  {
   "cell_type": "code",
   "execution_count": 236,
   "metadata": {},
   "outputs": [
    {
     "data": {
      "text/html": [
       "<div>\n",
       "<style scoped>\n",
       "    .dataframe tbody tr th:only-of-type {\n",
       "        vertical-align: middle;\n",
       "    }\n",
       "\n",
       "    .dataframe tbody tr th {\n",
       "        vertical-align: top;\n",
       "    }\n",
       "\n",
       "    .dataframe thead th {\n",
       "        text-align: right;\n",
       "    }\n",
       "</style>\n",
       "<table border=\"1\" class=\"dataframe\">\n",
       "  <thead>\n",
       "    <tr style=\"text-align: right;\">\n",
       "      <th></th>\n",
       "      <th>importance</th>\n",
       "    </tr>\n",
       "  </thead>\n",
       "  <tbody>\n",
       "    <tr>\n",
       "      <th>Glucose</th>\n",
       "      <td>0.299847</td>\n",
       "    </tr>\n",
       "    <tr>\n",
       "      <th>DiabetesPedigreeFunction</th>\n",
       "      <td>0.191426</td>\n",
       "    </tr>\n",
       "    <tr>\n",
       "      <th>SkinThickness</th>\n",
       "      <td>0.105500</td>\n",
       "    </tr>\n",
       "    <tr>\n",
       "      <th>Insulin</th>\n",
       "      <td>0.105098</td>\n",
       "    </tr>\n",
       "    <tr>\n",
       "      <th>BMI_[30, 35[</th>\n",
       "      <td>0.038226</td>\n",
       "    </tr>\n",
       "    <tr>\n",
       "      <th>Age_[40, 60[</th>\n",
       "      <td>0.032757</td>\n",
       "    </tr>\n",
       "    <tr>\n",
       "      <th>Pregnancies_[0, 5[</th>\n",
       "      <td>0.025126</td>\n",
       "    </tr>\n",
       "    <tr>\n",
       "      <th>BloodPressure_[80, 100[</th>\n",
       "      <td>0.024556</td>\n",
       "    </tr>\n",
       "    <tr>\n",
       "      <th>Pregnancies_[5, 10[</th>\n",
       "      <td>0.022993</td>\n",
       "    </tr>\n",
       "    <tr>\n",
       "      <th>BMI_[25, 30[</th>\n",
       "      <td>0.022956</td>\n",
       "    </tr>\n",
       "    <tr>\n",
       "      <th>BMI_[20, 25[</th>\n",
       "      <td>0.022551</td>\n",
       "    </tr>\n",
       "    <tr>\n",
       "      <th>Age_[21, 40[</th>\n",
       "      <td>0.019898</td>\n",
       "    </tr>\n",
       "    <tr>\n",
       "      <th>BMI_[35, 40[</th>\n",
       "      <td>0.019521</td>\n",
       "    </tr>\n",
       "    <tr>\n",
       "      <th>BloodPressure_[60, 80[</th>\n",
       "      <td>0.015676</td>\n",
       "    </tr>\n",
       "    <tr>\n",
       "      <th>BloodPressure_[0, 20[</th>\n",
       "      <td>0.011238</td>\n",
       "    </tr>\n",
       "    <tr>\n",
       "      <th>Pregnancies_[10, 15[</th>\n",
       "      <td>0.010566</td>\n",
       "    </tr>\n",
       "    <tr>\n",
       "      <th>BMI_[40, 45[</th>\n",
       "      <td>0.008406</td>\n",
       "    </tr>\n",
       "    <tr>\n",
       "      <th>BloodPressure_[40, 60[</th>\n",
       "      <td>0.007705</td>\n",
       "    </tr>\n",
       "    <tr>\n",
       "      <th>BMI_[45, 50[</th>\n",
       "      <td>0.007511</td>\n",
       "    </tr>\n",
       "    <tr>\n",
       "      <th>Age_[60, 80[</th>\n",
       "      <td>0.005858</td>\n",
       "    </tr>\n",
       "  </tbody>\n",
       "</table>\n",
       "</div>"
      ],
      "text/plain": [
       "                          importance\n",
       "Glucose                     0.299847\n",
       "DiabetesPedigreeFunction    0.191426\n",
       "SkinThickness               0.105500\n",
       "Insulin                     0.105098\n",
       "BMI_[30, 35[                0.038226\n",
       "Age_[40, 60[                0.032757\n",
       "Pregnancies_[0, 5[          0.025126\n",
       "BloodPressure_[80, 100[     0.024556\n",
       "Pregnancies_[5, 10[         0.022993\n",
       "BMI_[25, 30[                0.022956\n",
       "BMI_[20, 25[                0.022551\n",
       "Age_[21, 40[                0.019898\n",
       "BMI_[35, 40[                0.019521\n",
       "BloodPressure_[60, 80[      0.015676\n",
       "BloodPressure_[0, 20[       0.011238\n",
       "Pregnancies_[10, 15[        0.010566\n",
       "BMI_[40, 45[                0.008406\n",
       "BloodPressure_[40, 60[      0.007705\n",
       "BMI_[45, 50[                0.007511\n",
       "Age_[60, 80[                0.005858"
      ]
     },
     "metadata": {},
     "output_type": "display_data"
    }
   ],
   "source": [
    "feature_importances = pandas.DataFrame(classifier.feature_importances_,\n",
    "                                   index = labels,\n",
    "                                    columns=['importance']).sort_values('importance',ascending=False)\n",
    "display(feature_importances.head(20))"
   ]
  },
  {
   "cell_type": "code",
   "execution_count": 237,
   "metadata": {},
   "outputs": [
    {
     "name": "stdout",
     "output_type": "stream",
     "text": [
      "Total number of predictions:217\n",
      "Total number of wrong predictions:55\n",
      "Accuracy: 74.65437788018433 %\n"
     ]
    }
   ],
   "source": [
    "print('Total number of predictions:' + str(len(prediction)))\n",
    "print('Total number of wrong predictions:' + str(np.count_nonzero(difference))) \n",
    "print('Accuracy: '+ str(((len(prediction) - np.count_nonzero(difference))/len(prediction))*100)+' %')\n"
   ]
  },
  {
   "cell_type": "code",
   "execution_count": 238,
   "metadata": {},
   "outputs": [
    {
     "data": {
      "text/html": [
       "<div>\n",
       "<style scoped>\n",
       "    .dataframe tbody tr th:only-of-type {\n",
       "        vertical-align: middle;\n",
       "    }\n",
       "\n",
       "    .dataframe tbody tr th {\n",
       "        vertical-align: top;\n",
       "    }\n",
       "\n",
       "    .dataframe thead th {\n",
       "        text-align: right;\n",
       "    }\n",
       "</style>\n",
       "<table border=\"1\" class=\"dataframe\">\n",
       "  <thead>\n",
       "    <tr style=\"text-align: right;\">\n",
       "      <th></th>\n",
       "      <th>Predicted Negative</th>\n",
       "      <th>Predicted Positive</th>\n",
       "    </tr>\n",
       "  </thead>\n",
       "  <tbody>\n",
       "    <tr>\n",
       "      <th>Actual Negative</th>\n",
       "      <td>125</td>\n",
       "      <td>21</td>\n",
       "    </tr>\n",
       "    <tr>\n",
       "      <th>Actual Positive</th>\n",
       "      <td>34</td>\n",
       "      <td>37</td>\n",
       "    </tr>\n",
       "  </tbody>\n",
       "</table>\n",
       "</div>"
      ],
      "text/plain": [
       "                 Predicted Negative  Predicted Positive\n",
       "Actual Negative                 125                  21\n",
       "Actual Positive                  34                  37"
      ]
     },
     "execution_count": 238,
     "metadata": {},
     "output_type": "execute_result"
    }
   ],
   "source": [
    "# Creating the confusion matrix\n",
    "cm = metrics.confusion_matrix(test_target,prediction)\n",
    "# Assigning columns names\n",
    "cm_df = pandas.DataFrame(cm, \n",
    "            columns = ['Predicted Negative', 'Predicted Positive'],\n",
    "            index = ['Actual Negative', 'Actual Positive'])\n",
    "# Showing the confusion matrix\n",
    "cm_df\n"
   ]
  },
  {
   "cell_type": "code",
   "execution_count": 239,
   "metadata": {},
   "outputs": [
    {
     "name": "stdout",
     "output_type": "stream",
     "text": [
      "              precision    recall  f1-score   support\n",
      "\n",
      "           0       0.79      0.86      0.82       146\n",
      "           1       0.64      0.52      0.57        71\n",
      "\n",
      "    accuracy                           0.75       217\n",
      "   macro avg       0.71      0.69      0.70       217\n",
      "weighted avg       0.74      0.75      0.74       217\n",
      "\n"
     ]
    }
   ],
   "source": [
    "#metrics\n",
    "print(classification_report( test_target,prediction,target_names=['0','1']))"
   ]
  },
  {
   "cell_type": "markdown",
   "metadata": {},
   "source": [
    "## Naive Bayes\n",
    "Train & predict with model"
   ]
  },
  {
   "cell_type": "code",
   "execution_count": 240,
   "metadata": {},
   "outputs": [],
   "source": [
    "\n",
    "model = BernoulliNB()\n",
    "model = model.fit(nb_train_pred,nb_train_target)\n",
    "\n",
    "naive_prediction= model.predict(nb_test_pred)\n",
    "naive_difference = naive_prediction - nb_test_target"
   ]
  },
  {
   "cell_type": "markdown",
   "metadata": {},
   "source": [
    "#### Prediction"
   ]
  },
  {
   "cell_type": "code",
   "execution_count": 241,
   "metadata": {},
   "outputs": [
    {
     "name": "stdout",
     "output_type": "stream",
     "text": [
      "Total number of predictions:217\n",
      "Total number of wrong predictions:68\n",
      "Accuracy: 68.66359447004609 %\n",
      "Accuracy: 0.6866359447004609\n"
     ]
    }
   ],
   "source": [
    "print('Total number of predictions:' + str(len(naive_prediction)))\n",
    "print('Total number of wrong predictions:' + str(np.count_nonzero(naive_difference))) \n",
    "print('Accuracy: '+ str(((len(naive_prediction) - np.count_nonzero(naive_difference))/len(naive_prediction))*100)+' %')\n",
    "print(\"Accuracy:\",metrics.accuracy_score(nb_test_target, naive_prediction))\n"
   ]
  },
  {
   "cell_type": "code",
   "execution_count": 242,
   "metadata": {},
   "outputs": [
    {
     "data": {
      "text/html": [
       "<div>\n",
       "<style scoped>\n",
       "    .dataframe tbody tr th:only-of-type {\n",
       "        vertical-align: middle;\n",
       "    }\n",
       "\n",
       "    .dataframe tbody tr th {\n",
       "        vertical-align: top;\n",
       "    }\n",
       "\n",
       "    .dataframe thead th {\n",
       "        text-align: right;\n",
       "    }\n",
       "</style>\n",
       "<table border=\"1\" class=\"dataframe\">\n",
       "  <thead>\n",
       "    <tr style=\"text-align: right;\">\n",
       "      <th></th>\n",
       "      <th>Predicted Negative</th>\n",
       "      <th>Predicted Positive</th>\n",
       "    </tr>\n",
       "  </thead>\n",
       "  <tbody>\n",
       "    <tr>\n",
       "      <th>Actual Negative</th>\n",
       "      <td>131</td>\n",
       "      <td>15</td>\n",
       "    </tr>\n",
       "    <tr>\n",
       "      <th>Actual Positive</th>\n",
       "      <td>53</td>\n",
       "      <td>18</td>\n",
       "    </tr>\n",
       "  </tbody>\n",
       "</table>\n",
       "</div>"
      ],
      "text/plain": [
       "                 Predicted Negative  Predicted Positive\n",
       "Actual Negative                 131                  15\n",
       "Actual Positive                  53                  18"
      ]
     },
     "execution_count": 242,
     "metadata": {},
     "output_type": "execute_result"
    }
   ],
   "source": [
    "# Creating the confusion matrix\n",
    "cm = metrics.confusion_matrix(test_target,naive_prediction)\n",
    "# Assigning columns names\n",
    "cm_df = pandas.DataFrame(cm, \n",
    "            columns = ['Predicted Negative', 'Predicted Positive'],\n",
    "            index = ['Actual Negative', 'Actual Positive'])\n",
    "# Showing the confusion matrix\n",
    "cm_df\n"
   ]
  },
  {
   "cell_type": "code",
   "execution_count": 243,
   "metadata": {},
   "outputs": [
    {
     "name": "stdout",
     "output_type": "stream",
     "text": [
      "              precision    recall  f1-score   support\n",
      "\n",
      "           0       0.71      0.90      0.79       146\n",
      "           1       0.55      0.25      0.35        71\n",
      "\n",
      "    accuracy                           0.69       217\n",
      "   macro avg       0.63      0.58      0.57       217\n",
      "weighted avg       0.66      0.69      0.65       217\n",
      "\n"
     ]
    }
   ],
   "source": [
    "#metrics\n",
    "print(classification_report( test_target,naive_prediction,target_names=['0','1']))"
   ]
  },
  {
   "cell_type": "markdown",
   "metadata": {},
   "source": [
    "## KNN \n",
    "Finding the right k"
   ]
  },
  {
   "cell_type": "code",
   "execution_count": 244,
   "metadata": {},
   "outputs": [
    {
     "name": "stdout",
     "output_type": "stream",
     "text": [
      "[0.6636363636363638, 0.7022727272727274, 0.7386363636363636, 0.7181818181818181, 0.7318181818181818, 0.715909090909091, 0.7250000000000001, 0.7363636363636363, 0.7454545454545454, 0.7386363636363636, 0.7386363636363635, 0.7340909090909091, 0.7136363636363636, 0.7204545454545455]\n"
     ]
    }
   ],
   "source": [
    "k_range = range(1, 15)\n",
    "\n",
    "# list of scores from k_range\n",
    "k_scores = []\n",
    "\n",
    "# 1. we will loop through reasonable values of k\n",
    "for k in k_range:\n",
    "    # 2. run KNeighborsClassifier with k neighbours\n",
    "    knn = KNeighborsClassifier(n_neighbors=k)\n",
    "    # 3. obtain cross_val_score for KNeighborsClassifier with k neighbours\n",
    "    scores = cross_val_score(knn, train_pred, train_target, cv=10, scoring='accuracy')\n",
    "    # 4. append mean of scores for k neighbors to k_scores list\n",
    "    k_scores.append(scores.mean())\n",
    "print(k_scores)"
   ]
  },
  {
   "cell_type": "code",
   "execution_count": 245,
   "metadata": {},
   "outputs": [
    {
     "data": {
      "text/plain": [
       "Text(0, 0.5, 'Cross-Validated Accuracy')"
      ]
     },
     "execution_count": 245,
     "metadata": {},
     "output_type": "execute_result"
    },
    {
     "data": {
      "image/png": "[encoded data removed]",
      "text/plain": [
       "<Figure size 432x288 with 1 Axes>"
      ]
     },
     "metadata": {
      "needs_background": "light"
     },
     "output_type": "display_data"
    }
   ],
   "source": [
    "plt.plot(k_range, k_scores)\n",
    "plt.xlabel('Value of K for KNN')\n",
    "plt.ylabel('Cross-Validated Accuracy')"
   ]
  },
  {
   "cell_type": "markdown",
   "metadata": {},
   "source": [
    "#### Prediction"
   ]
  },
  {
   "cell_type": "markdown",
   "metadata": {},
   "source": [
    "Train and predict with model"
   ]
  },
  {
   "cell_type": "code",
   "execution_count": 246,
   "metadata": {},
   "outputs": [],
   "source": [
    "knn_model = KNeighborsClassifier(n_neighbors=9)\n",
    "knn_model.fit(train_pred, train_target)\n",
    "\n",
    "knn_prediction=knn_model.predict(test_pred)\n",
    "knn_difference = knn_prediction - test_target"
   ]
  },
  {
   "cell_type": "code",
   "execution_count": 247,
   "metadata": {},
   "outputs": [
    {
     "name": "stdout",
     "output_type": "stream",
     "text": [
      "Total number of predictions:217\n",
      "Total number of wrong predictions:54\n",
      "Accuracy: 75.11520737327189 %\n",
      "Accuracy: 0.7511520737327189\n"
     ]
    }
   ],
   "source": [
    "print('Total number of predictions:' + str(len(knn_prediction)))\n",
    "print('Total number of wrong predictions:' + str(np.count_nonzero(knn_difference))) \n",
    "print('Accuracy: '+ str(((len(knn_prediction) - np.count_nonzero(knn_difference))/len(knn_prediction))*100)+' %')\n",
    "print(\"Accuracy:\",metrics.accuracy_score(test_target, knn_prediction))\n"
   ]
  },
  {
   "cell_type": "code",
   "execution_count": 248,
   "metadata": {},
   "outputs": [
    {
     "data": {
      "text/html": [
       "<div>\n",
       "<style scoped>\n",
       "    .dataframe tbody tr th:only-of-type {\n",
       "        vertical-align: middle;\n",
       "    }\n",
       "\n",
       "    .dataframe tbody tr th {\n",
       "        vertical-align: top;\n",
       "    }\n",
       "\n",
       "    .dataframe thead th {\n",
       "        text-align: right;\n",
       "    }\n",
       "</style>\n",
       "<table border=\"1\" class=\"dataframe\">\n",
       "  <thead>\n",
       "    <tr style=\"text-align: right;\">\n",
       "      <th></th>\n",
       "      <th>Predicted Negative</th>\n",
       "      <th>Predicted Positive</th>\n",
       "    </tr>\n",
       "  </thead>\n",
       "  <tbody>\n",
       "    <tr>\n",
       "      <th>Actual Negative</th>\n",
       "      <td>128</td>\n",
       "      <td>18</td>\n",
       "    </tr>\n",
       "    <tr>\n",
       "      <th>Actual Positive</th>\n",
       "      <td>36</td>\n",
       "      <td>35</td>\n",
       "    </tr>\n",
       "  </tbody>\n",
       "</table>\n",
       "</div>"
      ],
      "text/plain": [
       "                 Predicted Negative  Predicted Positive\n",
       "Actual Negative                 128                  18\n",
       "Actual Positive                  36                  35"
      ]
     },
     "execution_count": 248,
     "metadata": {},
     "output_type": "execute_result"
    }
   ],
   "source": [
    "# Creating the confusion matrix\n",
    "cm = metrics.confusion_matrix( test_target,knn_prediction)\n",
    "# Assigning columns names\n",
    "cm_df = pandas.DataFrame(cm, \n",
    "            columns = ['Predicted Negative', 'Predicted Positive'],\n",
    "            index = ['Actual Negative', 'Actual Positive'])\n",
    "# Showing the confusion matrix\n",
    "cm_df\n"
   ]
  },
  {
   "cell_type": "code",
   "execution_count": 249,
   "metadata": {},
   "outputs": [
    {
     "name": "stdout",
     "output_type": "stream",
     "text": [
      "              precision    recall  f1-score   support\n",
      "\n",
      "           0       0.78      0.88      0.83       146\n",
      "           1       0.66      0.49      0.56        71\n",
      "\n",
      "    accuracy                           0.75       217\n",
      "   macro avg       0.72      0.68      0.70       217\n",
      "weighted avg       0.74      0.75      0.74       217\n",
      "\n"
     ]
    }
   ],
   "source": [
    "#metrics\n",
    "print(classification_report( test_target,knn_prediction,target_names=['0','1']))"
   ]
  },
  {
   "cell_type": "markdown",
   "metadata": {},
   "source": [
    "## Voting Classifier"
   ]
  },
  {
   "cell_type": "code",
   "execution_count": 250,
   "metadata": {},
   "outputs": [],
   "source": [
    "voting_pred=[]\n",
    "i=0\n",
    "while i < len(prediction):\n",
    "    tmp=prediction[i]+naive_prediction[i]+knn_prediction[i]\n",
    "    if tmp>1:\n",
    "        voting_pred.append(1)\n",
    "    else:\n",
    "        voting_pred.append(0)\n",
    "    i += 1\n",
    "voting_diff=voting_pred-test_target"
   ]
  },
  {
   "cell_type": "markdown",
   "metadata": {},
   "source": [
    "#### Prediction"
   ]
  },
  {
   "cell_type": "code",
   "execution_count": 251,
   "metadata": {},
   "outputs": [
    {
     "name": "stdout",
     "output_type": "stream",
     "text": [
      "Total number of predictions:217\n",
      "Total number of wrong predictions:53\n",
      "Accuracy: 75.57603686635944 %\n",
      "Accuracy: 0.7557603686635944\n"
     ]
    }
   ],
   "source": [
    "print('Total number of predictions:' + str(len(voting_pred)))\n",
    "print('Total number of wrong predictions:' + str(np.count_nonzero(voting_diff))) \n",
    "print('Accuracy: '+ str(((len(knn_prediction) - np.count_nonzero(voting_diff))/len(voting_pred))*100)+' %')\n",
    "print(\"Accuracy:\",metrics.accuracy_score(test_target, voting_pred))\n"
   ]
  },
  {
   "cell_type": "code",
   "execution_count": 252,
   "metadata": {},
   "outputs": [
    {
     "data": {
      "text/html": [
       "<div>\n",
       "<style scoped>\n",
       "    .dataframe tbody tr th:only-of-type {\n",
       "        vertical-align: middle;\n",
       "    }\n",
       "\n",
       "    .dataframe tbody tr th {\n",
       "        vertical-align: top;\n",
       "    }\n",
       "\n",
       "    .dataframe thead th {\n",
       "        text-align: right;\n",
       "    }\n",
       "</style>\n",
       "<table border=\"1\" class=\"dataframe\">\n",
       "  <thead>\n",
       "    <tr style=\"text-align: right;\">\n",
       "      <th></th>\n",
       "      <th>Predicted Negative</th>\n",
       "      <th>Predicted Positive</th>\n",
       "    </tr>\n",
       "  </thead>\n",
       "  <tbody>\n",
       "    <tr>\n",
       "      <th>Actual Negative</th>\n",
       "      <td>133</td>\n",
       "      <td>13</td>\n",
       "    </tr>\n",
       "    <tr>\n",
       "      <th>Actual Positive</th>\n",
       "      <td>40</td>\n",
       "      <td>31</td>\n",
       "    </tr>\n",
       "  </tbody>\n",
       "</table>\n",
       "</div>"
      ],
      "text/plain": [
       "                 Predicted Negative  Predicted Positive\n",
       "Actual Negative                 133                  13\n",
       "Actual Positive                  40                  31"
      ]
     },
     "execution_count": 252,
     "metadata": {},
     "output_type": "execute_result"
    }
   ],
   "source": [
    "# Creating the confusion matrix\n",
    "cm = metrics.confusion_matrix( test_target,voting_pred)\n",
    "# Assigning columns names\n",
    "cm_df = pandas.DataFrame(cm, \n",
    "            columns = ['Predicted Negative', 'Predicted Positive'],\n",
    "            index = ['Actual Negative', 'Actual Positive'])\n",
    "# Showing the confusion matrix\n",
    "cm_df\n"
   ]
  },
  {
   "cell_type": "code",
   "execution_count": 253,
   "metadata": {},
   "outputs": [
    {
     "name": "stdout",
     "output_type": "stream",
     "text": [
      "              precision    recall  f1-score   support\n",
      "\n",
      "           0       0.77      0.91      0.83       146\n",
      "           1       0.70      0.44      0.54        71\n",
      "\n",
      "    accuracy                           0.76       217\n",
      "   macro avg       0.74      0.67      0.69       217\n",
      "weighted avg       0.75      0.76      0.74       217\n",
      "\n"
     ]
    }
   ],
   "source": [
    "#metrics\n",
    "print(classification_report(test_target, voting_pred,target_names=['0','1']))"
   ]
  }
 ],
 "metadata": {
  "kernelspec": {
   "display_name": "Python 3",
   "language": "python",
   "name": "python3"
  },
  "language_info": {
   "codemirror_mode": {
    "name": "ipython",
    "version": 3
   },
   "file_extension": ".py",
   "mimetype": "text/x-python",
   "name": "python",
   "nbconvert_exporter": "python",
   "pygments_lexer": "ipython3",
   "version": "3.8.2"
  }
 },
 "nbformat": 4,
 "nbformat_minor": 4
}
