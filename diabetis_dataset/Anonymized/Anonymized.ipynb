{
 "cells": [
  {
   "cell_type": "markdown",
   "metadata": {},
   "source": [
    "Anonymized Pima Indians Diabetes Dataset\n",
    "======================================================="
   ]
  },
  {
   "cell_type": "markdown",
   "metadata": {},
   "source": [
    "Imports & Warnings:"
   ]
  },
  {
   "cell_type": "code",
   "execution_count": 23,
   "metadata": {},
   "outputs": [],
   "source": [
    "import pandas\n",
    "import numpy as np\n",
    "import matplotlib.pyplot as plt\n",
    "import seaborn as sns\n",
    "\n",
    "# turn of warnings\n",
    "import warnings\n",
    "warnings.filterwarnings('ignore')"
   ]
  },
  {
   "cell_type": "markdown",
   "metadata": {},
   "source": [
    "Loading the Pima Indians diabetes data from the National Institute of Diabetes and Digestive and Kidney Diseases :"
   ]
  },
  {
   "cell_type": "code",
   "execution_count": 24,
   "metadata": {},
   "outputs": [
    {
     "data": {
      "text/html": [
       "<div>\n",
       "<style scoped>\n",
       "    .dataframe tbody tr th:only-of-type {\n",
       "        vertical-align: middle;\n",
       "    }\n",
       "\n",
       "    .dataframe tbody tr th {\n",
       "        vertical-align: top;\n",
       "    }\n",
       "\n",
       "    .dataframe thead th {\n",
       "        text-align: right;\n",
       "    }\n",
       "</style>\n",
       "<table border=\"1\" class=\"dataframe\">\n",
       "  <thead>\n",
       "    <tr style=\"text-align: right;\">\n",
       "      <th></th>\n",
       "      <th>Pregnancies</th>\n",
       "      <th>Glucose</th>\n",
       "      <th>BloodPressure</th>\n",
       "      <th>SkinThickness</th>\n",
       "      <th>Insulin</th>\n",
       "      <th>BMI</th>\n",
       "      <th>DiabetesPedigreeFunction</th>\n",
       "      <th>Age</th>\n",
       "      <th>Outcome</th>\n",
       "    </tr>\n",
       "  </thead>\n",
       "  <tbody>\n",
       "    <tr>\n",
       "      <th>0</th>\n",
       "      <td>[0, 5[</td>\n",
       "      <td>84</td>\n",
       "      <td>[0, 20[</td>\n",
       "      <td>0</td>\n",
       "      <td>0</td>\n",
       "      <td>[0, 5[</td>\n",
       "      <td>0.304</td>\n",
       "      <td>[21, 40[</td>\n",
       "      <td>0</td>\n",
       "    </tr>\n",
       "    <tr>\n",
       "      <th>1</th>\n",
       "      <td>[0, 5[</td>\n",
       "      <td>74</td>\n",
       "      <td>[0, 20[</td>\n",
       "      <td>0</td>\n",
       "      <td>0</td>\n",
       "      <td>[0, 5[</td>\n",
       "      <td>0.102</td>\n",
       "      <td>[21, 40[</td>\n",
       "      <td>0</td>\n",
       "    </tr>\n",
       "    <tr>\n",
       "      <th>2</th>\n",
       "      <td>[0, 5[</td>\n",
       "      <td>94</td>\n",
       "      <td>[0, 20[</td>\n",
       "      <td>0</td>\n",
       "      <td>0</td>\n",
       "      <td>[0, 5[</td>\n",
       "      <td>0.256</td>\n",
       "      <td>[21, 40[</td>\n",
       "      <td>0</td>\n",
       "    </tr>\n",
       "    <tr>\n",
       "      <th>3</th>\n",
       "      <td>[0, 5[</td>\n",
       "      <td>80</td>\n",
       "      <td>[0, 20[</td>\n",
       "      <td>0</td>\n",
       "      <td>0</td>\n",
       "      <td>[0, 5[</td>\n",
       "      <td>0.174</td>\n",
       "      <td>[21, 40[</td>\n",
       "      <td>0</td>\n",
       "    </tr>\n",
       "    <tr>\n",
       "      <th>4</th>\n",
       "      <td>[0, 5[</td>\n",
       "      <td>116</td>\n",
       "      <td>[0, 20[</td>\n",
       "      <td>0</td>\n",
       "      <td>0</td>\n",
       "      <td>[20, 25[</td>\n",
       "      <td>0.187</td>\n",
       "      <td>[21, 40[</td>\n",
       "      <td>0</td>\n",
       "    </tr>\n",
       "  </tbody>\n",
       "</table>\n",
       "</div>"
      ],
      "text/plain": [
       "  Pregnancies  Glucose BloodPressure  SkinThickness  Insulin       BMI  \\\n",
       "0      [0, 5[       84       [0, 20[              0        0    [0, 5[   \n",
       "1      [0, 5[       74       [0, 20[              0        0    [0, 5[   \n",
       "2      [0, 5[       94       [0, 20[              0        0    [0, 5[   \n",
       "3      [0, 5[       80       [0, 20[              0        0    [0, 5[   \n",
       "4      [0, 5[      116       [0, 20[              0        0  [20, 25[   \n",
       "\n",
       "   DiabetesPedigreeFunction       Age  Outcome  \n",
       "0                     0.304  [21, 40[        0  \n",
       "1                     0.102  [21, 40[        0  \n",
       "2                     0.256  [21, 40[        0  \n",
       "3                     0.174  [21, 40[        0  \n",
       "4                     0.187  [21, 40[        0  "
      ]
     },
     "metadata": {},
     "output_type": "display_data"
    }
   ],
   "source": [
    "#Read and display first 5 entries of data\n",
    "data = pandas.read_csv('diabetes01.csv');\n",
    "display(data.head())"
   ]
  },
  {
   "cell_type": "markdown",
   "metadata": {},
   "source": [
    "## Removing rows with missing values"
   ]
  },
  {
   "cell_type": "code",
   "execution_count": 25,
   "metadata": {},
   "outputs": [
    {
     "data": {
      "text/plain": [
       "Pregnancies                 111\n",
       "Glucose                       0\n",
       "BloodPressure               111\n",
       "SkinThickness                 0\n",
       "Insulin                       0\n",
       "BMI                         111\n",
       "DiabetesPedigreeFunction      0\n",
       "Age                         111\n",
       "Outcome                       0\n",
       "dtype: int64"
      ]
     },
     "metadata": {},
     "output_type": "display_data"
    },
    {
     "data": {
      "text/plain": [
       "(768, 9)"
      ]
     },
     "metadata": {},
     "output_type": "display_data"
    }
   ],
   "source": [
    "#list with attribute names\n",
    "attributes=list(data.columns)\n",
    "#Missing values are filled with \"*\" -> replacing them with numpy.NAN\n",
    "data[attributes] = data[attributes].replace(\"*\",np.NAN)\n",
    "# Rows with missing values\n",
    "display(data.isnull().sum())\n",
    "#total count of rows\n",
    "display(data.shape)\n",
    "#drop rows with missing values \n",
    "data=data.dropna();\n"
   ]
  },
  {
   "cell_type": "markdown",
   "metadata": {},
   "source": [
    "111(14.4%) rows have been removed due to missing values. "
   ]
  },
  {
   "cell_type": "markdown",
   "metadata": {},
   "source": [
    "## Displaying basic information"
   ]
  },
  {
   "cell_type": "code",
   "execution_count": 26,
   "metadata": {},
   "outputs": [
    {
     "data": {
      "text/html": [
       "<div>\n",
       "<style scoped>\n",
       "    .dataframe tbody tr th:only-of-type {\n",
       "        vertical-align: middle;\n",
       "    }\n",
       "\n",
       "    .dataframe tbody tr th {\n",
       "        vertical-align: top;\n",
       "    }\n",
       "\n",
       "    .dataframe thead th {\n",
       "        text-align: right;\n",
       "    }\n",
       "</style>\n",
       "<table border=\"1\" class=\"dataframe\">\n",
       "  <thead>\n",
       "    <tr style=\"text-align: right;\">\n",
       "      <th></th>\n",
       "      <th>Glucose</th>\n",
       "      <th>SkinThickness</th>\n",
       "      <th>Insulin</th>\n",
       "      <th>DiabetesPedigreeFunction</th>\n",
       "      <th>Outcome</th>\n",
       "    </tr>\n",
       "  </thead>\n",
       "  <tbody>\n",
       "    <tr>\n",
       "      <th>count</th>\n",
       "      <td>657.000000</td>\n",
       "      <td>657.000000</td>\n",
       "      <td>657.000000</td>\n",
       "      <td>657.000000</td>\n",
       "      <td>657.000000</td>\n",
       "    </tr>\n",
       "    <tr>\n",
       "      <th>mean</th>\n",
       "      <td>120.222222</td>\n",
       "      <td>20.955860</td>\n",
       "      <td>83.324201</td>\n",
       "      <td>0.463350</td>\n",
       "      <td>0.336377</td>\n",
       "    </tr>\n",
       "    <tr>\n",
       "      <th>std</th>\n",
       "      <td>31.711724</td>\n",
       "      <td>15.298838</td>\n",
       "      <td>115.733135</td>\n",
       "      <td>0.320396</td>\n",
       "      <td>0.472830</td>\n",
       "    </tr>\n",
       "    <tr>\n",
       "      <th>min</th>\n",
       "      <td>0.000000</td>\n",
       "      <td>0.000000</td>\n",
       "      <td>0.000000</td>\n",
       "      <td>0.078000</td>\n",
       "      <td>0.000000</td>\n",
       "    </tr>\n",
       "    <tr>\n",
       "      <th>25%</th>\n",
       "      <td>99.000000</td>\n",
       "      <td>0.000000</td>\n",
       "      <td>0.000000</td>\n",
       "      <td>0.244000</td>\n",
       "      <td>0.000000</td>\n",
       "    </tr>\n",
       "    <tr>\n",
       "      <th>50%</th>\n",
       "      <td>116.000000</td>\n",
       "      <td>23.000000</td>\n",
       "      <td>46.000000</td>\n",
       "      <td>0.368000</td>\n",
       "      <td>0.000000</td>\n",
       "    </tr>\n",
       "    <tr>\n",
       "      <th>75%</th>\n",
       "      <td>140.000000</td>\n",
       "      <td>32.000000</td>\n",
       "      <td>130.000000</td>\n",
       "      <td>0.613000</td>\n",
       "      <td>1.000000</td>\n",
       "    </tr>\n",
       "    <tr>\n",
       "      <th>max</th>\n",
       "      <td>199.000000</td>\n",
       "      <td>60.000000</td>\n",
       "      <td>846.000000</td>\n",
       "      <td>2.329000</td>\n",
       "      <td>1.000000</td>\n",
       "    </tr>\n",
       "  </tbody>\n",
       "</table>\n",
       "</div>"
      ],
      "text/plain": [
       "          Glucose  SkinThickness     Insulin  DiabetesPedigreeFunction  \\\n",
       "count  657.000000     657.000000  657.000000                657.000000   \n",
       "mean   120.222222      20.955860   83.324201                  0.463350   \n",
       "std     31.711724      15.298838  115.733135                  0.320396   \n",
       "min      0.000000       0.000000    0.000000                  0.078000   \n",
       "25%     99.000000       0.000000    0.000000                  0.244000   \n",
       "50%    116.000000      23.000000   46.000000                  0.368000   \n",
       "75%    140.000000      32.000000  130.000000                  0.613000   \n",
       "max    199.000000      60.000000  846.000000                  2.329000   \n",
       "\n",
       "          Outcome  \n",
       "count  657.000000  \n",
       "mean     0.336377  \n",
       "std      0.472830  \n",
       "min      0.000000  \n",
       "25%      0.000000  \n",
       "50%      0.000000  \n",
       "75%      1.000000  \n",
       "max      1.000000  "
      ]
     },
     "metadata": {},
     "output_type": "display_data"
    },
    {
     "data": {
      "image/png": "[encoded data removed]",
      "text/plain": [
       "<Figure size 864x576 with 6 Axes>"
      ]
     },
     "metadata": {
      "needs_background": "light"
     },
     "output_type": "display_data"
    }
   ],
   "source": [
    "display(data.describe())\n",
    "fig = data.hist(column=attributes, figsize=(12,8))"
   ]
  },
  {
   "cell_type": "code",
   "execution_count": 27,
   "metadata": {},
   "outputs": [
    {
     "data": {
      "image/png": "[encoded data removed]",
      "text/plain": [
       "<Figure size 432x288 with 1 Axes>"
      ]
     },
     "metadata": {
      "needs_background": "light"
     },
     "output_type": "display_data"
    },
    {
     "data": {
      "image/png": "[encoded data removed]",
      "text/plain": [
       "<Figure size 432x288 with 1 Axes>"
      ]
     },
     "metadata": {
      "needs_background": "light"
     },
     "output_type": "display_data"
    },
    {
     "data": {
      "image/png": "[encoded data removed]",
      "text/plain": [
       "<Figure size 432x288 with 1 Axes>"
      ]
     },
     "metadata": {
      "needs_background": "light"
     },
     "output_type": "display_data"
    },
    {
     "data": {
      "image/png": "[encoded data removed]",
      "text/plain": [
       "<Figure size 432x288 with 1 Axes>"
      ]
     },
     "metadata": {
      "needs_background": "light"
     },
     "output_type": "display_data"
    }
   ],
   "source": [
    "for cat in np.array(['Pregnancies','BloodPressure','BMI','Age']):\n",
    "    fig, ax = plt.subplots()\n",
    "    data[cat].value_counts().plot(ax=ax, kind='bar')"
   ]
  },
  {
   "cell_type": "markdown",
   "metadata": {},
   "source": [
    "## Save to Csv"
   ]
  },
  {
   "cell_type": "code",
   "execution_count": 29,
   "metadata": {},
   "outputs": [],
   "source": [
    "#data.to_csv(\"../Prediction/diabetis_anonymized01.csv\", encoding='utf-8',header=True)"
   ]
  },
  {
   "cell_type": "code",
   "execution_count": null,
   "metadata": {},
   "outputs": [],
   "source": []
  },
  {
   "cell_type": "code",
   "execution_count": null,
   "metadata": {},
   "outputs": [],
   "source": []
  }
 ],
 "metadata": {
  "kernelspec": {
   "display_name": "Python 3",
   "language": "python",
   "name": "python3"
  },
  "language_info": {
   "codemirror_mode": {
    "name": "ipython",
    "version": 3
   },
   "file_extension": ".py",
   "mimetype": "text/x-python",
   "name": "python",
   "nbconvert_exporter": "python",
   "pygments_lexer": "ipython3",
   "version": "3.8.2"
  }
 },
 "nbformat": 4,
 "nbformat_minor": 4
}
