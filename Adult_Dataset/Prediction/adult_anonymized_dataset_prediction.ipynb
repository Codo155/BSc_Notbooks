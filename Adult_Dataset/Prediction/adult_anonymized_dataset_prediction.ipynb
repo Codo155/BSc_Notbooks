{
 "cells": [
  {
   "cell_type": "markdown",
   "metadata": {},
   "source": [
    "# Prediction anonymized adult data set"
   ]
  },
  {
   "cell_type": "markdown",
   "metadata": {},
   "source": [
    "## Imports\n",
    "\n",
    "Importing needed packages:"
   ]
  },
  {
   "cell_type": "code",
   "execution_count": 13,
   "metadata": {},
   "outputs": [],
   "source": [
    "import pandas \n",
    "import numpy as np\n",
    "\n",
    "from sklearn.ensemble import RandomForestClassifier\n",
    "from sklearn.naive_bayes import CategoricalNB\n",
    "from sklearn.neighbors import KNeighborsClassifier\n",
    "from sklearn import metrics\n",
    "from sklearn.metrics import classification_report\n",
    "\n",
    "# turn of warnings\n",
    "import warnings\n",
    "warnings.filterwarnings('ignore')"
   ]
  },
  {
   "cell_type": "markdown",
   "metadata": {},
   "source": [
    "## Import Data"
   ]
  },
  {
   "cell_type": "code",
   "execution_count": 14,
   "metadata": {},
   "outputs": [
    {
     "data": {
      "text/html": [
       "<div>\n",
       "<style scoped>\n",
       "    .dataframe tbody tr th:only-of-type {\n",
       "        vertical-align: middle;\n",
       "    }\n",
       "\n",
       "    .dataframe tbody tr th {\n",
       "        vertical-align: top;\n",
       "    }\n",
       "\n",
       "    .dataframe thead th {\n",
       "        text-align: right;\n",
       "    }\n",
       "</style>\n",
       "<table border=\"1\" class=\"dataframe\">\n",
       "  <thead>\n",
       "    <tr style=\"text-align: right;\">\n",
       "      <th></th>\n",
       "      <th>Age</th>\n",
       "      <th>Workclass</th>\n",
       "      <th>fnlwgt</th>\n",
       "      <th>Education</th>\n",
       "      <th>Education-number</th>\n",
       "      <th>Marital-status</th>\n",
       "      <th>Occupation</th>\n",
       "      <th>Relationship</th>\n",
       "      <th>Ethnicity</th>\n",
       "      <th>Sex</th>\n",
       "      <th>Capital-gain</th>\n",
       "      <th>Capital-loss</th>\n",
       "      <th>Hours-per-week</th>\n",
       "      <th>Native-country</th>\n",
       "      <th>50k</th>\n",
       "    </tr>\n",
       "  </thead>\n",
       "  <tbody>\n",
       "    <tr>\n",
       "      <th>0</th>\n",
       "      <td>[40, 60[</td>\n",
       "      <td>{Federal-gov, Local-gov, State-gov}</td>\n",
       "      <td>92141.0</td>\n",
       "      <td>{Assoc-acdm, Assoc-voc}</td>\n",
       "      <td>[10, 15[</td>\n",
       "      <td>{Divorced, Windowed, Never-married}</td>\n",
       "      <td>Adm-clerical</td>\n",
       "      <td>Not-in-family</td>\n",
       "      <td>Black</td>\n",
       "      <td>Female</td>\n",
       "      <td>0.0</td>\n",
       "      <td>0.0</td>\n",
       "      <td>40.0</td>\n",
       "      <td>United-States</td>\n",
       "      <td>&lt;=50K</td>\n",
       "    </tr>\n",
       "    <tr>\n",
       "      <th>1</th>\n",
       "      <td>[40, 60[</td>\n",
       "      <td>{Federal-gov, Local-gov, State-gov}</td>\n",
       "      <td>131302.0</td>\n",
       "      <td>{Assoc-acdm, Assoc-voc}</td>\n",
       "      <td>[10, 15[</td>\n",
       "      <td>{Divorced, Windowed, Never-married}</td>\n",
       "      <td>Adm-clerical</td>\n",
       "      <td>Not-in-family</td>\n",
       "      <td>Black</td>\n",
       "      <td>Female</td>\n",
       "      <td>0.0</td>\n",
       "      <td>0.0</td>\n",
       "      <td>44.0</td>\n",
       "      <td>United-States</td>\n",
       "      <td>&lt;=50K</td>\n",
       "    </tr>\n",
       "    <tr>\n",
       "      <th>2</th>\n",
       "      <td>[40, 60[</td>\n",
       "      <td>{Federal-gov, Local-gov, State-gov}</td>\n",
       "      <td>139161.0</td>\n",
       "      <td>{Assoc-acdm, Assoc-voc}</td>\n",
       "      <td>[10, 15[</td>\n",
       "      <td>{Divorced, Windowed, Never-married}</td>\n",
       "      <td>Adm-clerical</td>\n",
       "      <td>Not-in-family</td>\n",
       "      <td>Black</td>\n",
       "      <td>Female</td>\n",
       "      <td>0.0</td>\n",
       "      <td>1741.0</td>\n",
       "      <td>40.0</td>\n",
       "      <td>United-States</td>\n",
       "      <td>&lt;=50K</td>\n",
       "    </tr>\n",
       "    <tr>\n",
       "      <th>3</th>\n",
       "      <td>[20, 40[</td>\n",
       "      <td>{Federal-gov, Local-gov, State-gov}</td>\n",
       "      <td>255830.0</td>\n",
       "      <td>{Assoc-acdm, Assoc-voc}</td>\n",
       "      <td>[10, 15[</td>\n",
       "      <td>{Divorced, Windowed, Never-married}</td>\n",
       "      <td>Adm-clerical</td>\n",
       "      <td>Own-child</td>\n",
       "      <td>Black</td>\n",
       "      <td>Female</td>\n",
       "      <td>0.0</td>\n",
       "      <td>0.0</td>\n",
       "      <td>45.0</td>\n",
       "      <td>United-States</td>\n",
       "      <td>&lt;=50K</td>\n",
       "    </tr>\n",
       "    <tr>\n",
       "      <th>4</th>\n",
       "      <td>[20, 40[</td>\n",
       "      <td>{Federal-gov, Local-gov, State-gov}</td>\n",
       "      <td>272986.0</td>\n",
       "      <td>{Assoc-acdm, Assoc-voc}</td>\n",
       "      <td>[10, 15[</td>\n",
       "      <td>{Divorced, Windowed, Never-married}</td>\n",
       "      <td>Adm-clerical</td>\n",
       "      <td>Own-child</td>\n",
       "      <td>Black</td>\n",
       "      <td>Female</td>\n",
       "      <td>0.0</td>\n",
       "      <td>0.0</td>\n",
       "      <td>8.0</td>\n",
       "      <td>United-States</td>\n",
       "      <td>&lt;=50K</td>\n",
       "    </tr>\n",
       "  </tbody>\n",
       "</table>\n",
       "</div>"
      ],
      "text/plain": [
       "        Age                            Workclass    fnlwgt  \\\n",
       "0  [40, 60[  {Federal-gov, Local-gov, State-gov}   92141.0   \n",
       "1  [40, 60[  {Federal-gov, Local-gov, State-gov}  131302.0   \n",
       "2  [40, 60[  {Federal-gov, Local-gov, State-gov}  139161.0   \n",
       "3  [20, 40[  {Federal-gov, Local-gov, State-gov}  255830.0   \n",
       "4  [20, 40[  {Federal-gov, Local-gov, State-gov}  272986.0   \n",
       "\n",
       "                 Education Education-number  \\\n",
       "0  {Assoc-acdm, Assoc-voc}         [10, 15[   \n",
       "1  {Assoc-acdm, Assoc-voc}         [10, 15[   \n",
       "2  {Assoc-acdm, Assoc-voc}         [10, 15[   \n",
       "3  {Assoc-acdm, Assoc-voc}         [10, 15[   \n",
       "4  {Assoc-acdm, Assoc-voc}         [10, 15[   \n",
       "\n",
       "                        Marital-status    Occupation   Relationship Ethnicity  \\\n",
       "0  {Divorced, Windowed, Never-married}  Adm-clerical  Not-in-family     Black   \n",
       "1  {Divorced, Windowed, Never-married}  Adm-clerical  Not-in-family     Black   \n",
       "2  {Divorced, Windowed, Never-married}  Adm-clerical  Not-in-family     Black   \n",
       "3  {Divorced, Windowed, Never-married}  Adm-clerical      Own-child     Black   \n",
       "4  {Divorced, Windowed, Never-married}  Adm-clerical      Own-child     Black   \n",
       "\n",
       "      Sex  Capital-gain  Capital-loss  Hours-per-week Native-country    50k  \n",
       "0  Female           0.0           0.0            40.0  United-States  <=50K  \n",
       "1  Female           0.0           0.0            44.0  United-States  <=50K  \n",
       "2  Female           0.0        1741.0            40.0  United-States  <=50K  \n",
       "3  Female           0.0           0.0            45.0  United-States  <=50K  \n",
       "4  Female           0.0           0.0             8.0  United-States  <=50K  "
      ]
     },
     "metadata": {},
     "output_type": "display_data"
    },
    {
     "data": {
      "text/html": [
       "<div>\n",
       "<style scoped>\n",
       "    .dataframe tbody tr th:only-of-type {\n",
       "        vertical-align: middle;\n",
       "    }\n",
       "\n",
       "    .dataframe tbody tr th {\n",
       "        vertical-align: top;\n",
       "    }\n",
       "\n",
       "    .dataframe thead th {\n",
       "        text-align: right;\n",
       "    }\n",
       "</style>\n",
       "<table border=\"1\" class=\"dataframe\">\n",
       "  <thead>\n",
       "    <tr style=\"text-align: right;\">\n",
       "      <th></th>\n",
       "      <th>Age</th>\n",
       "      <th>Workclass</th>\n",
       "      <th>fnlwgt</th>\n",
       "      <th>Education</th>\n",
       "      <th>Education-number</th>\n",
       "      <th>Marital-status</th>\n",
       "      <th>Occupation</th>\n",
       "      <th>Relationship</th>\n",
       "      <th>Ethnicity</th>\n",
       "      <th>Sex</th>\n",
       "      <th>Capital-gain</th>\n",
       "      <th>Capital-loss</th>\n",
       "      <th>Hours-per-week</th>\n",
       "      <th>Native-country</th>\n",
       "      <th>50k</th>\n",
       "    </tr>\n",
       "  </thead>\n",
       "  <tbody>\n",
       "    <tr>\n",
       "      <th>0</th>\n",
       "      <td>[40, 60[</td>\n",
       "      <td>{Federal-gov, Local-gov, State-gov}</td>\n",
       "      <td>96652.0</td>\n",
       "      <td>{Assoc-acdm, Assoc-voc}</td>\n",
       "      <td>[10, 15[</td>\n",
       "      <td>{Married-AF-spouse, Married-civ-spouse, Marrie...</td>\n",
       "      <td>Adm-clerical</td>\n",
       "      <td>Unmarried</td>\n",
       "      <td>Black</td>\n",
       "      <td>Female</td>\n",
       "      <td>0.0</td>\n",
       "      <td>0.0</td>\n",
       "      <td>40.0</td>\n",
       "      <td>United-States</td>\n",
       "      <td>&lt;=50K.</td>\n",
       "    </tr>\n",
       "    <tr>\n",
       "      <th>1</th>\n",
       "      <td>[40, 60[</td>\n",
       "      <td>{Federal-gov, Local-gov, State-gov}</td>\n",
       "      <td>265386.0</td>\n",
       "      <td>{Assoc-acdm, Assoc-voc}</td>\n",
       "      <td>[10, 15[</td>\n",
       "      <td>{Married-AF-spouse, Married-civ-spouse, Marrie...</td>\n",
       "      <td>Adm-clerical</td>\n",
       "      <td>Unmarried</td>\n",
       "      <td>Black</td>\n",
       "      <td>Female</td>\n",
       "      <td>0.0</td>\n",
       "      <td>0.0</td>\n",
       "      <td>40.0</td>\n",
       "      <td>United-States</td>\n",
       "      <td>&lt;=50K.</td>\n",
       "    </tr>\n",
       "    <tr>\n",
       "      <th>2</th>\n",
       "      <td>[40, 60[</td>\n",
       "      <td>{Federal-gov, Local-gov, State-gov}</td>\n",
       "      <td>47270.0</td>\n",
       "      <td>{Assoc-acdm, Assoc-voc}</td>\n",
       "      <td>[10, 15[</td>\n",
       "      <td>{Married-AF-spouse, Married-civ-spouse, Marrie...</td>\n",
       "      <td>Adm-clerical</td>\n",
       "      <td>Unmarried</td>\n",
       "      <td>Black</td>\n",
       "      <td>Female</td>\n",
       "      <td>0.0</td>\n",
       "      <td>0.0</td>\n",
       "      <td>40.0</td>\n",
       "      <td>United-States</td>\n",
       "      <td>&lt;=50K.</td>\n",
       "    </tr>\n",
       "    <tr>\n",
       "      <th>3</th>\n",
       "      <td>[20, 40[</td>\n",
       "      <td>{Federal-gov, Local-gov, State-gov}</td>\n",
       "      <td>90872.0</td>\n",
       "      <td>{Prof-school, Some-college}</td>\n",
       "      <td>[10, 15[</td>\n",
       "      <td>{Divorced, Widowed, Never-married}</td>\n",
       "      <td>Adm-clerical</td>\n",
       "      <td>Not-in-family</td>\n",
       "      <td>Black</td>\n",
       "      <td>Female</td>\n",
       "      <td>0.0</td>\n",
       "      <td>0.0</td>\n",
       "      <td>40.0</td>\n",
       "      <td>United-States</td>\n",
       "      <td>&lt;=50K.</td>\n",
       "    </tr>\n",
       "    <tr>\n",
       "      <th>4</th>\n",
       "      <td>[20, 40[</td>\n",
       "      <td>{Federal-gov, Local-gov, State-gov}</td>\n",
       "      <td>243177.0</td>\n",
       "      <td>{Prof-school, Some-college}</td>\n",
       "      <td>[10, 15[</td>\n",
       "      <td>{Divorced, Widowed, Never-married}</td>\n",
       "      <td>Adm-clerical</td>\n",
       "      <td>Not-in-family</td>\n",
       "      <td>Black</td>\n",
       "      <td>Female</td>\n",
       "      <td>0.0</td>\n",
       "      <td>0.0</td>\n",
       "      <td>40.0</td>\n",
       "      <td>United-States</td>\n",
       "      <td>&lt;=50K.</td>\n",
       "    </tr>\n",
       "  </tbody>\n",
       "</table>\n",
       "</div>"
      ],
      "text/plain": [
       "        Age                            Workclass    fnlwgt  \\\n",
       "0  [40, 60[  {Federal-gov, Local-gov, State-gov}   96652.0   \n",
       "1  [40, 60[  {Federal-gov, Local-gov, State-gov}  265386.0   \n",
       "2  [40, 60[  {Federal-gov, Local-gov, State-gov}   47270.0   \n",
       "3  [20, 40[  {Federal-gov, Local-gov, State-gov}   90872.0   \n",
       "4  [20, 40[  {Federal-gov, Local-gov, State-gov}  243177.0   \n",
       "\n",
       "                     Education Education-number  \\\n",
       "0      {Assoc-acdm, Assoc-voc}         [10, 15[   \n",
       "1      {Assoc-acdm, Assoc-voc}         [10, 15[   \n",
       "2      {Assoc-acdm, Assoc-voc}         [10, 15[   \n",
       "3  {Prof-school, Some-college}         [10, 15[   \n",
       "4  {Prof-school, Some-college}         [10, 15[   \n",
       "\n",
       "                                      Marital-status    Occupation  \\\n",
       "0  {Married-AF-spouse, Married-civ-spouse, Marrie...  Adm-clerical   \n",
       "1  {Married-AF-spouse, Married-civ-spouse, Marrie...  Adm-clerical   \n",
       "2  {Married-AF-spouse, Married-civ-spouse, Marrie...  Adm-clerical   \n",
       "3                 {Divorced, Widowed, Never-married}  Adm-clerical   \n",
       "4                 {Divorced, Widowed, Never-married}  Adm-clerical   \n",
       "\n",
       "    Relationship Ethnicity     Sex  Capital-gain  Capital-loss  \\\n",
       "0      Unmarried     Black  Female           0.0           0.0   \n",
       "1      Unmarried     Black  Female           0.0           0.0   \n",
       "2      Unmarried     Black  Female           0.0           0.0   \n",
       "3  Not-in-family     Black  Female           0.0           0.0   \n",
       "4  Not-in-family     Black  Female           0.0           0.0   \n",
       "\n",
       "   Hours-per-week Native-country     50k  \n",
       "0            40.0  United-States  <=50K.  \n",
       "1            40.0  United-States  <=50K.  \n",
       "2            40.0  United-States  <=50K.  \n",
       "3            40.0  United-States  <=50K.  \n",
       "4            40.0  United-States  <=50K.  "
      ]
     },
     "metadata": {},
     "output_type": "display_data"
    }
   ],
   "source": [
    "train= pandas.read_csv('../Anonymized_finished/train02.csv', index_col=0);\n",
    "test= pandas.read_csv('../Anonymized_finished/test02.csv', index_col=0);\n",
    "\n",
    "display(train.head())\n",
    "display(test.head())"
   ]
  },
  {
   "cell_type": "markdown",
   "metadata": {},
   "source": [
    "Follwing attributes will be taken as predictor:\n",
    "\n",
    "Age, Workclass, Education, Occupation, Ethnicity, Sex, Hours-per-week and Native-country\n",
    "\n",
    "The attribute 50k is the target attribute."
   ]
  },
  {
   "cell_type": "markdown",
   "metadata": {},
   "source": [
    "## Data preparation\n",
    "\n",
    "First, we will extract the predictors, labels and the target for the train and for the test dataset and also apply One-Hot Encoding for categorical attributes:"
   ]
  },
  {
   "cell_type": "code",
   "execution_count": 15,
   "metadata": {},
   "outputs": [],
   "source": [
    "#Removing Rows with Laos because test predictors does not contain it -> Once Hot encoding \n",
    "train= train[train['Native-country']!='Laos']\n",
    "\n",
    "train_predictors = train.drop(['fnlwgt','Marital-status','Relationship','Capital-gain','Capital-loss','50k'],axis=1)\n",
    "train_target = train['50k'].astype('category')\n",
    "\n",
    "test_predictors = test.drop(['fnlwgt','Marital-status','Relationship','Capital-gain','Capital-loss','50k'],axis=1)\n",
    "test_target = test['50k'].astype('category')\n",
    "\n",
    "## saving the labels\n",
    "labels= list(train_predictors.columns)\n",
    "\n",
    "\n",
    "## One-Hot Encoding\n",
    "enc=np.array([\"Age\",\"Workclass\",\"Education\",\"Education-number\",\"Occupation\",\"Ethnicity\",\"Native-country\"])\n",
    "\n",
    "train_predictors= pandas.get_dummies(train_predictors,columns=enc)\n",
    "test_predictors= pandas.get_dummies(test_predictors,columns=enc)\n",
    "\n",
    "\n",
    "#New Labels\n",
    "labels2=list(train_predictors.columns)\n",
    "labels3=list(test_predictors.columns)\n",
    "\n",
    "## Transform targets\n",
    "train_target = train_target.map({'<=50K': 0, '>50K':1}).astype('category')\n",
    "test_target = test_target.map({'<=50K.':0, '>50K.':1}).astype('category')\n",
    "test_predictors['Sex']=test_predictors['Sex'].map({'Male': 0, 'Female':1})\n",
    "train_predictors['Sex']=train_predictors['Sex'].map({'Male': 0, 'Female':1})\n",
    "\n",
    "## Transform everythin to np.array\n",
    "train_predictors=np.array(train_predictors)\n",
    "train_target=np.array(train_target)\n",
    "\n",
    "test_predictors=np.array(test_predictors)\n",
    "test_target=np.array(test_target)\n"
   ]
  },
  {
   "cell_type": "markdown",
   "metadata": {},
   "source": [
    "## Random Forest\n",
    "Train & predict with model"
   ]
  },
  {
   "cell_type": "code",
   "execution_count": 16,
   "metadata": {},
   "outputs": [],
   "source": [
    "classifier = RandomForestClassifier(random_state=42)\n",
    "classifier = classifier.fit(train_predictors,train_target)\n",
    "\n",
    "prediction = classifier.predict(test_predictors)\n",
    "\n",
    "difference = prediction - test_target"
   ]
  },
  {
   "cell_type": "code",
   "execution_count": 17,
   "metadata": {},
   "outputs": [
    {
     "data": {
      "text/html": [
       "<div>\n",
       "<style scoped>\n",
       "    .dataframe tbody tr th:only-of-type {\n",
       "        vertical-align: middle;\n",
       "    }\n",
       "\n",
       "    .dataframe tbody tr th {\n",
       "        vertical-align: top;\n",
       "    }\n",
       "\n",
       "    .dataframe thead th {\n",
       "        text-align: right;\n",
       "    }\n",
       "</style>\n",
       "<table border=\"1\" class=\"dataframe\">\n",
       "  <thead>\n",
       "    <tr style=\"text-align: right;\">\n",
       "      <th></th>\n",
       "      <th>importance</th>\n",
       "    </tr>\n",
       "  </thead>\n",
       "  <tbody>\n",
       "    <tr>\n",
       "      <th>Hours-per-week</th>\n",
       "      <td>0.319428</td>\n",
       "    </tr>\n",
       "    <tr>\n",
       "      <th>Sex</th>\n",
       "      <td>0.085941</td>\n",
       "    </tr>\n",
       "    <tr>\n",
       "      <th>Age_[40, 60[</th>\n",
       "      <td>0.064710</td>\n",
       "    </tr>\n",
       "    <tr>\n",
       "      <th>Education_{Bachelors, Masters}</th>\n",
       "      <td>0.057433</td>\n",
       "    </tr>\n",
       "    <tr>\n",
       "      <th>Occupation_Exec-managerial</th>\n",
       "      <td>0.041749</td>\n",
       "    </tr>\n",
       "    <tr>\n",
       "      <th>Age_[20, 40[</th>\n",
       "      <td>0.038319</td>\n",
       "    </tr>\n",
       "    <tr>\n",
       "      <th>Education-number_[15, 17[</th>\n",
       "      <td>0.028911</td>\n",
       "    </tr>\n",
       "    <tr>\n",
       "      <th>Occupation_Prof-specialty</th>\n",
       "      <td>0.028090</td>\n",
       "    </tr>\n",
       "    <tr>\n",
       "      <th>Education-number_[5, 10[</th>\n",
       "      <td>0.026618</td>\n",
       "    </tr>\n",
       "    <tr>\n",
       "      <th>Education-number_[10, 15[</th>\n",
       "      <td>0.022995</td>\n",
       "    </tr>\n",
       "    <tr>\n",
       "      <th>Occupation_Other-service</th>\n",
       "      <td>0.020979</td>\n",
       "    </tr>\n",
       "    <tr>\n",
       "      <th>Education_{9th, 10th, 11th, 12th, HS-grad}</th>\n",
       "      <td>0.020252</td>\n",
       "    </tr>\n",
       "    <tr>\n",
       "      <th>Education_{Prof-school, Some-college}</th>\n",
       "      <td>0.019695</td>\n",
       "    </tr>\n",
       "    <tr>\n",
       "      <th>Workclass_{Private}</th>\n",
       "      <td>0.017228</td>\n",
       "    </tr>\n",
       "    <tr>\n",
       "      <th>Workclass_{Self-emp-inc, Self-emp-not-inc}</th>\n",
       "      <td>0.013578</td>\n",
       "    </tr>\n",
       "    <tr>\n",
       "      <th>Occupation_Adm-clerical</th>\n",
       "      <td>0.012881</td>\n",
       "    </tr>\n",
       "    <tr>\n",
       "      <th>Native-country_United-States</th>\n",
       "      <td>0.011406</td>\n",
       "    </tr>\n",
       "    <tr>\n",
       "      <th>Workclass_{Federal-gov, Local-gov, State-gov}</th>\n",
       "      <td>0.010972</td>\n",
       "    </tr>\n",
       "    <tr>\n",
       "      <th>Occupation_Sales</th>\n",
       "      <td>0.010592</td>\n",
       "    </tr>\n",
       "    <tr>\n",
       "      <th>Occupation_Craft-repair</th>\n",
       "      <td>0.009933</td>\n",
       "    </tr>\n",
       "  </tbody>\n",
       "</table>\n",
       "</div>"
      ],
      "text/plain": [
       "                                               importance\n",
       "Hours-per-week                                   0.319428\n",
       "Sex                                              0.085941\n",
       "Age_[40, 60[                                     0.064710\n",
       "Education_{Bachelors, Masters}                   0.057433\n",
       "Occupation_Exec-managerial                       0.041749\n",
       "Age_[20, 40[                                     0.038319\n",
       "Education-number_[15, 17[                        0.028911\n",
       "Occupation_Prof-specialty                        0.028090\n",
       "Education-number_[5, 10[                         0.026618\n",
       "Education-number_[10, 15[                        0.022995\n",
       "Occupation_Other-service                         0.020979\n",
       "Education_{9th, 10th, 11th, 12th, HS-grad}       0.020252\n",
       "Education_{Prof-school, Some-college}            0.019695\n",
       "Workclass_{Private}                              0.017228\n",
       "Workclass_{Self-emp-inc, Self-emp-not-inc}       0.013578\n",
       "Occupation_Adm-clerical                          0.012881\n",
       "Native-country_United-States                     0.011406\n",
       "Workclass_{Federal-gov, Local-gov, State-gov}    0.010972\n",
       "Occupation_Sales                                 0.010592\n",
       "Occupation_Craft-repair                          0.009933"
      ]
     },
     "metadata": {},
     "output_type": "display_data"
    }
   ],
   "source": [
    "feature_importances = pandas.DataFrame(classifier.feature_importances_,\n",
    "                                   index = labels2,\n",
    "                                    columns=['importance']).sort_values('importance',ascending=False)\n",
    "display(feature_importances.head(20))"
   ]
  },
  {
   "cell_type": "markdown",
   "metadata": {},
   "source": [
    "#### Prediction"
   ]
  },
  {
   "cell_type": "code",
   "execution_count": 18,
   "metadata": {},
   "outputs": [
    {
     "name": "stdout",
     "output_type": "stream",
     "text": [
      "Total number of predictions:12077\n",
      "Total number of wrong predictions:2681\n",
      "Accuracy: 77.80077833899148 %\n"
     ]
    }
   ],
   "source": [
    "print('Total number of predictions:' + str(len(prediction)))\n",
    "print('Total number of wrong predictions:' + str(np.count_nonzero(difference))) \n",
    "print('Accuracy: '+ str(((len(prediction) - np.count_nonzero(difference))/len(prediction))*100)+' %')\n"
   ]
  },
  {
   "cell_type": "code",
   "execution_count": 19,
   "metadata": {},
   "outputs": [
    {
     "data": {
      "text/html": [
       "<div>\n",
       "<style scoped>\n",
       "    .dataframe tbody tr th:only-of-type {\n",
       "        vertical-align: middle;\n",
       "    }\n",
       "\n",
       "    .dataframe tbody tr th {\n",
       "        vertical-align: top;\n",
       "    }\n",
       "\n",
       "    .dataframe thead th {\n",
       "        text-align: right;\n",
       "    }\n",
       "</style>\n",
       "<table border=\"1\" class=\"dataframe\">\n",
       "  <thead>\n",
       "    <tr style=\"text-align: right;\">\n",
       "      <th></th>\n",
       "      <th>Predicted Negative</th>\n",
       "      <th>Predicted Positive</th>\n",
       "    </tr>\n",
       "  </thead>\n",
       "  <tbody>\n",
       "    <tr>\n",
       "      <th>Actual Negative</th>\n",
       "      <td>7836</td>\n",
       "      <td>1022</td>\n",
       "    </tr>\n",
       "    <tr>\n",
       "      <th>Actual Positive</th>\n",
       "      <td>1659</td>\n",
       "      <td>1560</td>\n",
       "    </tr>\n",
       "  </tbody>\n",
       "</table>\n",
       "</div>"
      ],
      "text/plain": [
       "                 Predicted Negative  Predicted Positive\n",
       "Actual Negative                7836                1022\n",
       "Actual Positive                1659                1560"
      ]
     },
     "execution_count": 19,
     "metadata": {},
     "output_type": "execute_result"
    }
   ],
   "source": [
    "# Creating the confusion matrix\n",
    "cm = metrics.confusion_matrix( test_target,prediction)\n",
    "# Assigning columns names\n",
    "cm_df = pandas.DataFrame(cm, \n",
    "            columns = ['Predicted Negative', 'Predicted Positive'],\n",
    "            index = ['Actual Negative', 'Actual Positive'])\n",
    "# Showing the confusion matrix\n",
    "cm_df\n"
   ]
  },
  {
   "cell_type": "code",
   "execution_count": 20,
   "metadata": {},
   "outputs": [
    {
     "name": "stdout",
     "output_type": "stream",
     "text": [
      "              precision    recall  f1-score   support\n",
      "\n",
      "           0       0.83      0.88      0.85      8858\n",
      "           1       0.60      0.48      0.54      3219\n",
      "\n",
      "    accuracy                           0.78     12077\n",
      "   macro avg       0.71      0.68      0.70     12077\n",
      "weighted avg       0.77      0.78      0.77     12077\n",
      "\n"
     ]
    }
   ],
   "source": [
    "#metrics\n",
    "print(classification_report(test_target, prediction,target_names=['0','1']))"
   ]
  },
  {
   "cell_type": "markdown",
   "metadata": {},
   "source": [
    "## Naive Bayes\n",
    "Train & predict with model"
   ]
  },
  {
   "cell_type": "code",
   "execution_count": 21,
   "metadata": {},
   "outputs": [],
   "source": [
    "model = CategoricalNB()\n",
    "model = model.fit(train_predictors,train_target)\n",
    "\n",
    "naive_prediction= model.predict(test_predictors)\n",
    "naive_difference = naive_prediction - test_target"
   ]
  },
  {
   "cell_type": "markdown",
   "metadata": {},
   "source": [
    "#### Prediction"
   ]
  },
  {
   "cell_type": "code",
   "execution_count": 22,
   "metadata": {},
   "outputs": [
    {
     "name": "stdout",
     "output_type": "stream",
     "text": [
      "Total number of predictions:12077\n",
      "Total number of wrong predictions:2892\n",
      "Accuracy: 76.0536557091993 %\n",
      "Accuracy: 0.7605365570919931\n"
     ]
    }
   ],
   "source": [
    "print('Total number of predictions:' + str(len(naive_prediction)))\n",
    "print('Total number of wrong predictions:' + str(np.count_nonzero(naive_difference))) \n",
    "print('Accuracy: '+ str(((len(naive_prediction) - np.count_nonzero(naive_difference))/len(naive_prediction))*100)+' %')\n",
    "print(\"Accuracy:\",metrics.accuracy_score(test_target, naive_prediction))\n"
   ]
  },
  {
   "cell_type": "code",
   "execution_count": 23,
   "metadata": {},
   "outputs": [
    {
     "data": {
      "text/html": [
       "<div>\n",
       "<style scoped>\n",
       "    .dataframe tbody tr th:only-of-type {\n",
       "        vertical-align: middle;\n",
       "    }\n",
       "\n",
       "    .dataframe tbody tr th {\n",
       "        vertical-align: top;\n",
       "    }\n",
       "\n",
       "    .dataframe thead th {\n",
       "        text-align: right;\n",
       "    }\n",
       "</style>\n",
       "<table border=\"1\" class=\"dataframe\">\n",
       "  <thead>\n",
       "    <tr style=\"text-align: right;\">\n",
       "      <th></th>\n",
       "      <th>Predicted Negative</th>\n",
       "      <th>Predicted Positive</th>\n",
       "    </tr>\n",
       "  </thead>\n",
       "  <tbody>\n",
       "    <tr>\n",
       "      <th>Actual Negative</th>\n",
       "      <td>7105</td>\n",
       "      <td>1753</td>\n",
       "    </tr>\n",
       "    <tr>\n",
       "      <th>Actual Positive</th>\n",
       "      <td>1139</td>\n",
       "      <td>2080</td>\n",
       "    </tr>\n",
       "  </tbody>\n",
       "</table>\n",
       "</div>"
      ],
      "text/plain": [
       "                 Predicted Negative  Predicted Positive\n",
       "Actual Negative                7105                1753\n",
       "Actual Positive                1139                2080"
      ]
     },
     "execution_count": 23,
     "metadata": {},
     "output_type": "execute_result"
    }
   ],
   "source": [
    "# Creating the confusion matrix\n",
    "cm = metrics.confusion_matrix( test_target,naive_prediction)\n",
    "# Assigning columns names\n",
    "cm_df = pandas.DataFrame(cm, \n",
    "            columns = ['Predicted Negative', 'Predicted Positive'],\n",
    "            index = ['Actual Negative', 'Actual Positive'])\n",
    "# Showing the confusion matrix\n",
    "cm_df\n"
   ]
  },
  {
   "cell_type": "code",
   "execution_count": 24,
   "metadata": {},
   "outputs": [
    {
     "name": "stdout",
     "output_type": "stream",
     "text": [
      "              precision    recall  f1-score   support\n",
      "\n",
      "           0       0.86      0.80      0.83      8858\n",
      "           1       0.54      0.65      0.59      3219\n",
      "\n",
      "    accuracy                           0.76     12077\n",
      "   macro avg       0.70      0.72      0.71     12077\n",
      "weighted avg       0.78      0.76      0.77     12077\n",
      "\n"
     ]
    }
   ],
   "source": [
    "#metrics\n",
    "print(classification_report(test_target, naive_prediction,target_names=['0','1']))"
   ]
  },
  {
   "cell_type": "markdown",
   "metadata": {},
   "source": [
    "## KNN \n",
    "Train & predict with model"
   ]
  },
  {
   "cell_type": "code",
   "execution_count": 25,
   "metadata": {},
   "outputs": [],
   "source": [
    "knn_model = KNeighborsClassifier(n_neighbors=3)\n",
    "knn_model.fit(train_predictors, train_target)\n",
    "\n",
    "knn_prediction=knn_model.predict(test_predictors)\n",
    "knn_difference = knn_prediction - test_target"
   ]
  },
  {
   "cell_type": "markdown",
   "metadata": {},
   "source": [
    "#### Prediction"
   ]
  },
  {
   "cell_type": "code",
   "execution_count": 26,
   "metadata": {},
   "outputs": [
    {
     "name": "stdout",
     "output_type": "stream",
     "text": [
      "Total number of predictions:12077\n",
      "Total number of wrong predictions:3023\n",
      "Accuracy: 74.96894924236152 %\n",
      "Accuracy: 0.7496894924236152\n"
     ]
    }
   ],
   "source": [
    "print('Total number of predictions:' + str(len(knn_prediction)))\n",
    "print('Total number of wrong predictions:' + str(np.count_nonzero(knn_difference))) \n",
    "print('Accuracy: '+ str(((len(knn_prediction) - np.count_nonzero(knn_difference))/len(knn_prediction))*100)+' %')\n",
    "print(\"Accuracy:\",metrics.accuracy_score(test_target, knn_prediction))\n"
   ]
  },
  {
   "cell_type": "code",
   "execution_count": 27,
   "metadata": {},
   "outputs": [
    {
     "data": {
      "text/html": [
       "<div>\n",
       "<style scoped>\n",
       "    .dataframe tbody tr th:only-of-type {\n",
       "        vertical-align: middle;\n",
       "    }\n",
       "\n",
       "    .dataframe tbody tr th {\n",
       "        vertical-align: top;\n",
       "    }\n",
       "\n",
       "    .dataframe thead th {\n",
       "        text-align: right;\n",
       "    }\n",
       "</style>\n",
       "<table border=\"1\" class=\"dataframe\">\n",
       "  <thead>\n",
       "    <tr style=\"text-align: right;\">\n",
       "      <th></th>\n",
       "      <th>Predicted Negative</th>\n",
       "      <th>Predicted Positive</th>\n",
       "    </tr>\n",
       "  </thead>\n",
       "  <tbody>\n",
       "    <tr>\n",
       "      <th>Actual Negative</th>\n",
       "      <td>7694</td>\n",
       "      <td>1164</td>\n",
       "    </tr>\n",
       "    <tr>\n",
       "      <th>Actual Positive</th>\n",
       "      <td>1859</td>\n",
       "      <td>1360</td>\n",
       "    </tr>\n",
       "  </tbody>\n",
       "</table>\n",
       "</div>"
      ],
      "text/plain": [
       "                 Predicted Negative  Predicted Positive\n",
       "Actual Negative                7694                1164\n",
       "Actual Positive                1859                1360"
      ]
     },
     "execution_count": 27,
     "metadata": {},
     "output_type": "execute_result"
    }
   ],
   "source": [
    "# Creating the confusion matrix\n",
    "cm = metrics.confusion_matrix( test_target,knn_prediction)\n",
    "# Assigning columns names\n",
    "cm_df = pandas.DataFrame(cm, \n",
    "            columns = ['Predicted Negative', 'Predicted Positive'],\n",
    "            index = ['Actual Negative', 'Actual Positive'])\n",
    "# Showing the confusion matrix\n",
    "cm_df\n"
   ]
  },
  {
   "cell_type": "code",
   "execution_count": 28,
   "metadata": {},
   "outputs": [
    {
     "name": "stdout",
     "output_type": "stream",
     "text": [
      "              precision    recall  f1-score   support\n",
      "\n",
      "           0       0.81      0.87      0.84      8858\n",
      "           1       0.54      0.42      0.47      3219\n",
      "\n",
      "    accuracy                           0.75     12077\n",
      "   macro avg       0.67      0.65      0.65     12077\n",
      "weighted avg       0.73      0.75      0.74     12077\n",
      "\n"
     ]
    }
   ],
   "source": [
    "#metrics\n",
    "print(classification_report(test_target, knn_prediction,target_names=['0','1']))"
   ]
  },
  {
   "cell_type": "markdown",
   "metadata": {},
   "source": [
    "## Voting Classifier\n",
    "Train & predict with model"
   ]
  },
  {
   "cell_type": "code",
   "execution_count": 29,
   "metadata": {},
   "outputs": [],
   "source": [
    "voting_pred=[]\n",
    "i=0\n",
    "while i < len(prediction):\n",
    "    tmp=prediction[i]+naive_prediction[i]+knn_prediction[i]\n",
    "    if tmp>1:\n",
    "        voting_pred.append(1)\n",
    "    else:\n",
    "        voting_pred.append(0)\n",
    "    i += 1\n",
    "voting_diff=voting_pred-test_target"
   ]
  },
  {
   "cell_type": "markdown",
   "metadata": {},
   "source": [
    "#### Prediction"
   ]
  },
  {
   "cell_type": "code",
   "execution_count": 30,
   "metadata": {},
   "outputs": [
    {
     "name": "stdout",
     "output_type": "stream",
     "text": [
      "Total number of predictions:12077\n",
      "Total number of wrong predictions:2676\n",
      "Accuracy: 77.84217934917612 %\n",
      "Accuracy: 0.7784217934917612\n"
     ]
    }
   ],
   "source": [
    "print('Total number of predictions:' + str(len(voting_pred)))\n",
    "print('Total number of wrong predictions:' + str(np.count_nonzero(voting_diff))) \n",
    "print('Accuracy: '+ str(((len(knn_prediction) - np.count_nonzero(voting_diff))/len(voting_pred))*100)+' %')\n",
    "print(\"Accuracy:\",metrics.accuracy_score(test_target, voting_pred))\n"
   ]
  },
  {
   "cell_type": "code",
   "execution_count": 31,
   "metadata": {},
   "outputs": [
    {
     "data": {
      "text/html": [
       "<div>\n",
       "<style scoped>\n",
       "    .dataframe tbody tr th:only-of-type {\n",
       "        vertical-align: middle;\n",
       "    }\n",
       "\n",
       "    .dataframe tbody tr th {\n",
       "        vertical-align: top;\n",
       "    }\n",
       "\n",
       "    .dataframe thead th {\n",
       "        text-align: right;\n",
       "    }\n",
       "</style>\n",
       "<table border=\"1\" class=\"dataframe\">\n",
       "  <thead>\n",
       "    <tr style=\"text-align: right;\">\n",
       "      <th></th>\n",
       "      <th>Predicted Negative</th>\n",
       "      <th>Predicted Positive</th>\n",
       "    </tr>\n",
       "  </thead>\n",
       "  <tbody>\n",
       "    <tr>\n",
       "      <th>Actual Negative</th>\n",
       "      <td>7754</td>\n",
       "      <td>1104</td>\n",
       "    </tr>\n",
       "    <tr>\n",
       "      <th>Actual Positive</th>\n",
       "      <td>1572</td>\n",
       "      <td>1647</td>\n",
       "    </tr>\n",
       "  </tbody>\n",
       "</table>\n",
       "</div>"
      ],
      "text/plain": [
       "                 Predicted Negative  Predicted Positive\n",
       "Actual Negative                7754                1104\n",
       "Actual Positive                1572                1647"
      ]
     },
     "execution_count": 31,
     "metadata": {},
     "output_type": "execute_result"
    }
   ],
   "source": [
    "# Creating the confusion matrix\n",
    "cm = metrics.confusion_matrix( test_target,voting_pred)\n",
    "# Assigning columns names\n",
    "cm_df = pandas.DataFrame(cm, \n",
    "            columns = ['Predicted Negative', 'Predicted Positive'],\n",
    "            index = ['Actual Negative', 'Actual Positive'])\n",
    "# Showing the confusion matrix\n",
    "cm_df\n"
   ]
  },
  {
   "cell_type": "code",
   "execution_count": 32,
   "metadata": {},
   "outputs": [
    {
     "name": "stdout",
     "output_type": "stream",
     "text": [
      "              precision    recall  f1-score   support\n",
      "\n",
      "           0       0.83      0.88      0.85      8858\n",
      "           1       0.60      0.51      0.55      3219\n",
      "\n",
      "    accuracy                           0.78     12077\n",
      "   macro avg       0.72      0.69      0.70     12077\n",
      "weighted avg       0.77      0.78      0.77     12077\n",
      "\n"
     ]
    }
   ],
   "source": [
    "#metrics\n",
    "print(classification_report(test_target, voting_pred,target_names=['0','1']))"
   ]
  }
 ],
 "metadata": {
  "kernelspec": {
   "display_name": "Python 3",
   "language": "python",
   "name": "python3"
  },
  "language_info": {
   "codemirror_mode": {
    "name": "ipython",
    "version": 3
   },
   "file_extension": ".py",
   "mimetype": "text/x-python",
   "name": "python",
   "nbconvert_exporter": "python",
   "pygments_lexer": "ipython3",
   "version": "3.8.2"
  }
 },
 "nbformat": 4,
 "nbformat_minor": 4
}
